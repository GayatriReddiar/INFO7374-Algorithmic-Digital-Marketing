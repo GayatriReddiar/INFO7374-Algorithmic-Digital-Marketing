{
 "cells": [
  {
   "cell_type": "markdown",
   "metadata": {
    "colab_type": "text",
    "id": "4csB-tHiaXmj"
   },
   "source": [
    "# Churn Prediction\n",
    "\n",
    "In this notebook we will make a churn prediction model using a retail dataset. Let's start importing necessary packages for the analysis."
   ]
  },
  {
   "cell_type": "code",
   "execution_count": 42,
   "metadata": {
    "_cell_guid": "b1076dfc-b9ad-4769-8c92-a6c4dae69d19",
    "_uuid": "8f2839f25d086af736a60e9eeb907d3b93b6e0e5",
    "colab": {
     "base_uri": "https://localhost:8080/",
     "height": 72
    },
    "colab_type": "code",
    "id": "veLtF9P0aXmk",
    "outputId": "49dfe5bc-a4ec-4eb5-f2b0-a8ea324d9c5e"
   },
   "outputs": [],
   "source": [
    "import matplotlib.pyplot as plt\n",
    "import seaborn as sns\n",
    "import pandas as pd\n",
    "import numpy as np\n",
    "import joblib\n",
    "sns.set_style(\"darkgrid\")\n",
    "\n",
    "import warnings\n",
    "warnings.filterwarnings(\"ignore\")"
   ]
  },
  {
   "cell_type": "markdown",
   "metadata": {
    "colab_type": "text",
    "id": "RY3Qy1iHaXmm"
   },
   "source": [
    "# Exploratory Data Analysis\n",
    "The dataset consist of eight tables in separate .csv files, we will go through six of them which we will use in this notebook. The dataset covers a two year span purchase transactions of various customers. Also demographics information of customers, campaign and coupon redemption information is available. In the modeling phase we will join these tables to make our final dataset.\n",
    "\n",
    "* Campaign Descriptions (campaigndesc.csv)\n",
    "* Campaigns (campaign_table.csv)\n",
    "* Coupons (coupon.csv)\n",
    "* Coupon Redemptions (coupon_redempt.csv)\n",
    "* Transactions (transaction_data.csv)\n",
    "* Demographics (hh_demographic.csv)\n",
    "\n",
    "## Campaign Descriptions\n",
    "Campaign description data is a look up table, containing the start and the end days of each campaign"
   ]
  },
  {
   "cell_type": "code",
   "execution_count": 3,
   "metadata": {
    "_cell_guid": "79c7e3d0-c299-4dcb-8224-4455121ee9b0",
    "_uuid": "d629ff2d2480ee46fbb7e2d37f6b5fab8052498a",
    "colab": {
     "base_uri": "https://localhost:8080/",
     "height": 202
    },
    "colab_type": "code",
    "id": "WYpQisGyaXmm",
    "outputId": "3c530930-0699-4e19-88fa-771c4754c60c"
   },
   "outputs": [
    {
     "data": {
      "text/html": [
       "<div>\n",
       "<style scoped>\n",
       "    .dataframe tbody tr th:only-of-type {\n",
       "        vertical-align: middle;\n",
       "    }\n",
       "\n",
       "    .dataframe tbody tr th {\n",
       "        vertical-align: top;\n",
       "    }\n",
       "\n",
       "    .dataframe thead th {\n",
       "        text-align: right;\n",
       "    }\n",
       "</style>\n",
       "<table border=\"1\" class=\"dataframe\">\n",
       "  <thead>\n",
       "    <tr style=\"text-align: right;\">\n",
       "      <th></th>\n",
       "      <th>CAMPAIGN</th>\n",
       "      <th>START_DATE</th>\n",
       "      <th>END_DATE</th>\n",
       "    </tr>\n",
       "  </thead>\n",
       "  <tbody>\n",
       "    <tr>\n",
       "      <th>0</th>\n",
       "      <td>24</td>\n",
       "      <td>10/21/2019</td>\n",
       "      <td>12/20/2019</td>\n",
       "    </tr>\n",
       "    <tr>\n",
       "      <th>1</th>\n",
       "      <td>15</td>\n",
       "      <td>7/1/2019</td>\n",
       "      <td>12/9/2019</td>\n",
       "    </tr>\n",
       "    <tr>\n",
       "      <th>2</th>\n",
       "      <td>25</td>\n",
       "      <td>10/21/2019</td>\n",
       "      <td>11/22/2019</td>\n",
       "    </tr>\n",
       "    <tr>\n",
       "      <th>3</th>\n",
       "      <td>20</td>\n",
       "      <td>9/7/2019</td>\n",
       "      <td>11/16/2019</td>\n",
       "    </tr>\n",
       "    <tr>\n",
       "      <th>4</th>\n",
       "      <td>23</td>\n",
       "      <td>10/8/2019</td>\n",
       "      <td>11/15/2019</td>\n",
       "    </tr>\n",
       "  </tbody>\n",
       "</table>\n",
       "</div>"
      ],
      "text/plain": [
       "   CAMPAIGN  START_DATE    END_DATE\n",
       "0        24  10/21/2019  12/20/2019\n",
       "1        15    7/1/2019   12/9/2019\n",
       "2        25  10/21/2019  11/22/2019\n",
       "3        20    9/7/2019  11/16/2019\n",
       "4        23   10/8/2019  11/15/2019"
      ]
     },
     "execution_count": 3,
     "metadata": {},
     "output_type": "execute_result"
    }
   ],
   "source": [
    "dfs = dict()\n",
    "dfs[\"campaign_desc\"] = pd.read_csv(\"campaign_desc.csv\")\n",
    "dfs[\"campaign_desc\"].head()"
   ]
  },
  {
   "cell_type": "markdown",
   "metadata": {
    "colab_type": "text",
    "id": "CWN5eTivaXmr"
   },
   "source": [
    "### Campaign Dataset\n",
    "Campaign dataset contains identifying information for the marketing campaigns each customer participated in."
   ]
  },
  {
   "cell_type": "code",
   "execution_count": 4,
   "metadata": {
    "colab": {
     "base_uri": "https://localhost:8080/",
     "height": 202
    },
    "colab_type": "code",
    "id": "UIBdoODdaXmr",
    "outputId": "10ee7686-526a-480e-f3e7-d33323b11a40"
   },
   "outputs": [
    {
     "data": {
      "text/html": [
       "<div>\n",
       "<style scoped>\n",
       "    .dataframe tbody tr th:only-of-type {\n",
       "        vertical-align: middle;\n",
       "    }\n",
       "\n",
       "    .dataframe tbody tr th {\n",
       "        vertical-align: top;\n",
       "    }\n",
       "\n",
       "    .dataframe thead th {\n",
       "        text-align: right;\n",
       "    }\n",
       "</style>\n",
       "<table border=\"1\" class=\"dataframe\">\n",
       "  <thead>\n",
       "    <tr style=\"text-align: right;\">\n",
       "      <th></th>\n",
       "      <th>customer_id</th>\n",
       "      <th>CAMPAIGN</th>\n",
       "    </tr>\n",
       "  </thead>\n",
       "  <tbody>\n",
       "    <tr>\n",
       "      <th>0</th>\n",
       "      <td>17</td>\n",
       "      <td>26</td>\n",
       "    </tr>\n",
       "    <tr>\n",
       "      <th>1</th>\n",
       "      <td>27</td>\n",
       "      <td>26</td>\n",
       "    </tr>\n",
       "    <tr>\n",
       "      <th>2</th>\n",
       "      <td>212</td>\n",
       "      <td>26</td>\n",
       "    </tr>\n",
       "    <tr>\n",
       "      <th>3</th>\n",
       "      <td>208</td>\n",
       "      <td>26</td>\n",
       "    </tr>\n",
       "    <tr>\n",
       "      <th>4</th>\n",
       "      <td>192</td>\n",
       "      <td>26</td>\n",
       "    </tr>\n",
       "  </tbody>\n",
       "</table>\n",
       "</div>"
      ],
      "text/plain": [
       "   customer_id  CAMPAIGN\n",
       "0           17        26\n",
       "1           27        26\n",
       "2          212        26\n",
       "3          208        26\n",
       "4          192        26"
      ]
     },
     "execution_count": 4,
     "metadata": {},
     "output_type": "execute_result"
    }
   ],
   "source": [
    "dfs[\"campaign_table\"] = pd.read_csv(\"campaign_table.csv\")\n",
    "dfs[\"campaign_table\"].head()"
   ]
  },
  {
   "cell_type": "markdown",
   "metadata": {
    "colab_type": "text",
    "id": "ZdFz9dJjaXm0"
   },
   "source": [
    "### Coupons\n",
    "Is a lookup table which lists all the coupons sent to customers as part of a campaign, as well as the products for which each coupon is redeemable"
   ]
  },
  {
   "cell_type": "code",
   "execution_count": 5,
   "metadata": {
    "colab": {
     "base_uri": "https://localhost:8080/",
     "height": 202
    },
    "colab_type": "code",
    "id": "8RxgVynZaXm1",
    "outputId": "34541b55-5315-44b3-8516-d5b6247cac16"
   },
   "outputs": [
    {
     "data": {
      "text/html": [
       "<div>\n",
       "<style scoped>\n",
       "    .dataframe tbody tr th:only-of-type {\n",
       "        vertical-align: middle;\n",
       "    }\n",
       "\n",
       "    .dataframe tbody tr th {\n",
       "        vertical-align: top;\n",
       "    }\n",
       "\n",
       "    .dataframe thead th {\n",
       "        text-align: right;\n",
       "    }\n",
       "</style>\n",
       "<table border=\"1\" class=\"dataframe\">\n",
       "  <thead>\n",
       "    <tr style=\"text-align: right;\">\n",
       "      <th></th>\n",
       "      <th>COUPON_UPC</th>\n",
       "      <th>PRODUCT_ID</th>\n",
       "      <th>CAMPAIGN</th>\n",
       "    </tr>\n",
       "  </thead>\n",
       "  <tbody>\n",
       "    <tr>\n",
       "      <th>0</th>\n",
       "      <td>10000089061</td>\n",
       "      <td>1</td>\n",
       "      <td>4</td>\n",
       "    </tr>\n",
       "    <tr>\n",
       "      <th>1</th>\n",
       "      <td>10000089064</td>\n",
       "      <td>2</td>\n",
       "      <td>9</td>\n",
       "    </tr>\n",
       "    <tr>\n",
       "      <th>2</th>\n",
       "      <td>10000089073</td>\n",
       "      <td>3</td>\n",
       "      <td>12</td>\n",
       "    </tr>\n",
       "    <tr>\n",
       "      <th>3</th>\n",
       "      <td>51800009050</td>\n",
       "      <td>4</td>\n",
       "      <td>28</td>\n",
       "    </tr>\n",
       "    <tr>\n",
       "      <th>4</th>\n",
       "      <td>52100000076</td>\n",
       "      <td>5</td>\n",
       "      <td>25</td>\n",
       "    </tr>\n",
       "  </tbody>\n",
       "</table>\n",
       "</div>"
      ],
      "text/plain": [
       "    COUPON_UPC  PRODUCT_ID  CAMPAIGN\n",
       "0  10000089061           1         4\n",
       "1  10000089064           2         9\n",
       "2  10000089073           3        12\n",
       "3  51800009050           4        28\n",
       "4  52100000076           5        25"
      ]
     },
     "execution_count": 5,
     "metadata": {},
     "output_type": "execute_result"
    }
   ],
   "source": [
    "dfs[\"coupon\"] = pd.read_csv(\"coupon.csv\")\n",
    "dfs[\"coupon\"].head()"
   ]
  },
  {
   "cell_type": "markdown",
   "metadata": {
    "colab_type": "text",
    "id": "1GOyhf1WaXm4"
   },
   "source": [
    "### Coupon Redemptions\n",
    "Is a data table, gives which customer redeemed what coupon number. Also the day of the redeem and the campaign number is given for each customer."
   ]
  },
  {
   "cell_type": "code",
   "execution_count": 6,
   "metadata": {
    "colab": {
     "base_uri": "https://localhost:8080/",
     "height": 202
    },
    "colab_type": "code",
    "id": "VlrPMka4aXm4",
    "outputId": "09029e19-821c-47fe-9208-85d2eeaf70d6"
   },
   "outputs": [
    {
     "data": {
      "text/html": [
       "<div>\n",
       "<style scoped>\n",
       "    .dataframe tbody tr th:only-of-type {\n",
       "        vertical-align: middle;\n",
       "    }\n",
       "\n",
       "    .dataframe tbody tr th {\n",
       "        vertical-align: top;\n",
       "    }\n",
       "\n",
       "    .dataframe thead th {\n",
       "        text-align: right;\n",
       "    }\n",
       "</style>\n",
       "<table border=\"1\" class=\"dataframe\">\n",
       "  <thead>\n",
       "    <tr style=\"text-align: right;\">\n",
       "      <th></th>\n",
       "      <th>customer_id</th>\n",
       "      <th>DATE</th>\n",
       "      <th>COUPON_UPC</th>\n",
       "      <th>CAMPAIGN</th>\n",
       "    </tr>\n",
       "  </thead>\n",
       "  <tbody>\n",
       "    <tr>\n",
       "      <th>0</th>\n",
       "      <td>1</td>\n",
       "      <td>2/25/2019</td>\n",
       "      <td>10000085364</td>\n",
       "      <td>8</td>\n",
       "    </tr>\n",
       "    <tr>\n",
       "      <th>1</th>\n",
       "      <td>1</td>\n",
       "      <td>2/25/2019</td>\n",
       "      <td>51700010076</td>\n",
       "      <td>8</td>\n",
       "    </tr>\n",
       "    <tr>\n",
       "      <th>2</th>\n",
       "      <td>1</td>\n",
       "      <td>3/3/2019</td>\n",
       "      <td>54200000033</td>\n",
       "      <td>8</td>\n",
       "    </tr>\n",
       "    <tr>\n",
       "      <th>3</th>\n",
       "      <td>1</td>\n",
       "      <td>8/20/2019</td>\n",
       "      <td>10000085476</td>\n",
       "      <td>18</td>\n",
       "    </tr>\n",
       "    <tr>\n",
       "      <th>4</th>\n",
       "      <td>1</td>\n",
       "      <td>8/20/2019</td>\n",
       "      <td>54200029176</td>\n",
       "      <td>18</td>\n",
       "    </tr>\n",
       "  </tbody>\n",
       "</table>\n",
       "</div>"
      ],
      "text/plain": [
       "   customer_id       DATE   COUPON_UPC  CAMPAIGN\n",
       "0            1  2/25/2019  10000085364         8\n",
       "1            1  2/25/2019  51700010076         8\n",
       "2            1   3/3/2019  54200000033         8\n",
       "3            1  8/20/2019  10000085476        18\n",
       "4            1  8/20/2019  54200029176        18"
      ]
     },
     "execution_count": 6,
     "metadata": {},
     "output_type": "execute_result"
    }
   ],
   "source": [
    "dfs[\"coupon_redempt\"] = pd.read_csv(\"coupon_redempt.csv\")\n",
    "dfs[\"coupon_redempt\"].head()"
   ]
  },
  {
   "cell_type": "markdown",
   "metadata": {
    "colab_type": "text",
    "id": "E3ABOlSIaXm8"
   },
   "source": [
    "### Number of Redeems for each Campaign\n",
    "Most frequent campaigns (18, 13 and 8, all belongs to TypeA) attracts the most number of redeems as expected. The barchart below gives the number of redeems per campaign."
   ]
  },
  {
   "cell_type": "code",
   "execution_count": 7,
   "metadata": {
    "colab": {
     "base_uri": "https://localhost:8080/",
     "height": 521
    },
    "colab_type": "code",
    "id": "_JRBxY0haXm9",
    "outputId": "0ddb24d6-254d-40ce-80de-d068a5ff79ee"
   },
   "outputs": [
    {
     "data": {
      "image/png": "[encoded data removed]",
      "text/plain": [
       "<Figure size 1008x576 with 1 Axes>"
      ]
     },
     "metadata": {},
     "output_type": "display_data"
    }
   ],
   "source": [
    "redeem_frequency = pd.DataFrame(list(zip(dfs[\"coupon_redempt\"].CAMPAIGN.value_counts().index, dfs[\"coupon_redempt\"].CAMPAIGN.value_counts())),columns=[\"Campaign\",\"No of Redeems\"])\n",
    "fig = plt.figure(figsize=(14,8))\n",
    "sns.barplot(y=\"Campaign\",x=\"No of Redeems\",data = redeem_frequency,orient=\"h\",order=redeem_frequency.Campaign)\n",
    "plt.title('Number of Redeems Each Campaign', fontsize=17)\n",
    "plt.xlabel('No of Redeems', fontsize=14)\n",
    "plt.ylabel('Campaign No.', fontsize=14)\n",
    "plt.show()"
   ]
  },
  {
   "cell_type": "markdown",
   "metadata": {
    "colab_type": "text",
    "id": "0f_53srfaXm-"
   },
   "source": [
    "The barchart below gives the redeem rates of each campaign in a descending order. Campaign 13 and 18 are clearly have higher redeem rates (~60%) as compared to the rest of campaigns."
   ]
  },
  {
   "cell_type": "code",
   "execution_count": 8,
   "metadata": {
    "colab": {
     "base_uri": "https://localhost:8080/",
     "height": 521
    },
    "colab_type": "code",
    "id": "Vu7kGApgaXm_",
    "outputId": "0a9ec221-483f-4077-b527-a03f9937d4bf"
   },
   "outputs": [
    {
     "data": {
      "image/png": "[encoded data removed]",
      "text/plain": [
       "<Figure size 864x576 with 1 Axes>"
      ]
     },
     "metadata": {},
     "output_type": "display_data"
    }
   ],
   "source": [
    "\n",
    "redems_per_camp = dfs[\"coupon_redempt\"].CAMPAIGN.value_counts().sort_values()/dfs[\"campaign_table\"].CAMPAIGN.value_counts().sort_values()\n",
    "redems_per_camp = pd.DataFrame(list(zip(redems_per_camp.index,redems_per_camp)),\n",
    "                               columns=[\"Campaign\",\"Redeem_Rate\"]).sort_values(by=\"Redeem_Rate\",ascending=False)\n",
    "plt.figure(figsize=(12,8))\n",
    "sns.barplot(y=\"Campaign\",x=\"Redeem_Rate\",data=redems_per_camp,orient=\"h\",order=redems_per_camp.Campaign)\n",
    "plt.title('Redeem Rate per Campaign', fontsize=17)\n",
    "plt.xlabel('Redeem Rate', fontsize=14)\n",
    "plt.ylabel('Campaign No.', fontsize=14)\n",
    "plt.show()"
   ]
  },
  {
   "cell_type": "markdown",
   "metadata": {
    "colab_type": "text",
    "id": "mFCil3z-aXnA"
   },
   "source": [
    "### Transactional Data\n",
    "Transactional data contains purchase history of each customer."
   ]
  },
  {
   "cell_type": "code",
   "execution_count": 43,
   "metadata": {},
   "outputs": [],
   "source": [
    "import boto3\n",
    "client = boto3.client('s3')\n",
    "path = 's3:///adm-project-6/transaction_data.csv'\n",
    "df = pd.read_csv(path)"
   ]
  },
  {
   "cell_type": "code",
   "execution_count": 47,
   "metadata": {},
   "outputs": [
    {
     "data": {
      "text/html": [
       "<div>\n",
       "<style scoped>\n",
       "    .dataframe tbody tr th:only-of-type {\n",
       "        vertical-align: middle;\n",
       "    }\n",
       "\n",
       "    .dataframe tbody tr th {\n",
       "        vertical-align: top;\n",
       "    }\n",
       "\n",
       "    .dataframe thead th {\n",
       "        text-align: right;\n",
       "    }\n",
       "</style>\n",
       "<table border=\"1\" class=\"dataframe\">\n",
       "  <thead>\n",
       "    <tr style=\"text-align: right;\">\n",
       "      <th></th>\n",
       "      <th>customer_id</th>\n",
       "      <th>TRANSACTION_ID</th>\n",
       "      <th>DAY</th>\n",
       "      <th>PRODUCT_ID</th>\n",
       "      <th>QUANTITY</th>\n",
       "      <th>SALES_VALUE</th>\n",
       "      <th>WEEK_NO</th>\n",
       "    </tr>\n",
       "  </thead>\n",
       "  <tbody>\n",
       "    <tr>\n",
       "      <th>0</th>\n",
       "      <td>2375</td>\n",
       "      <td>26984851472</td>\n",
       "      <td>1</td>\n",
       "      <td>1004906</td>\n",
       "      <td>1</td>\n",
       "      <td>1.39</td>\n",
       "      <td>1</td>\n",
       "    </tr>\n",
       "    <tr>\n",
       "      <th>1</th>\n",
       "      <td>2375</td>\n",
       "      <td>26984851472</td>\n",
       "      <td>1</td>\n",
       "      <td>1033142</td>\n",
       "      <td>1</td>\n",
       "      <td>0.82</td>\n",
       "      <td>1</td>\n",
       "    </tr>\n",
       "    <tr>\n",
       "      <th>2</th>\n",
       "      <td>2375</td>\n",
       "      <td>26984851472</td>\n",
       "      <td>1</td>\n",
       "      <td>1036325</td>\n",
       "      <td>1</td>\n",
       "      <td>0.99</td>\n",
       "      <td>1</td>\n",
       "    </tr>\n",
       "    <tr>\n",
       "      <th>3</th>\n",
       "      <td>2375</td>\n",
       "      <td>26984851472</td>\n",
       "      <td>1</td>\n",
       "      <td>1082185</td>\n",
       "      <td>1</td>\n",
       "      <td>1.21</td>\n",
       "      <td>1</td>\n",
       "    </tr>\n",
       "    <tr>\n",
       "      <th>4</th>\n",
       "      <td>2375</td>\n",
       "      <td>26984851472</td>\n",
       "      <td>1</td>\n",
       "      <td>8160430</td>\n",
       "      <td>1</td>\n",
       "      <td>1.50</td>\n",
       "      <td>1</td>\n",
       "    </tr>\n",
       "  </tbody>\n",
       "</table>\n",
       "</div>"
      ],
      "text/plain": [
       "   customer_id  TRANSACTION_ID  DAY  PRODUCT_ID  QUANTITY  SALES_VALUE  \\\n",
       "0         2375     26984851472    1     1004906         1         1.39   \n",
       "1         2375     26984851472    1     1033142         1         0.82   \n",
       "2         2375     26984851472    1     1036325         1         0.99   \n",
       "3         2375     26984851472    1     1082185         1         1.21   \n",
       "4         2375     26984851472    1     8160430         1         1.50   \n",
       "\n",
       "   WEEK_NO  \n",
       "0        1  \n",
       "1        1  \n",
       "2        1  \n",
       "3        1  \n",
       "4        1  "
      ]
     },
     "execution_count": 47,
     "metadata": {},
     "output_type": "execute_result"
    }
   ],
   "source": [
    "df.head()"
   ]
  },
  {
   "cell_type": "code",
   "execution_count": 48,
   "metadata": {
    "colab": {
     "base_uri": "https://localhost:8080/",
     "height": 202
    },
    "colab_type": "code",
    "id": "YJtjBvnTaXnB",
    "outputId": "d48ad531-10e6-4477-fd1d-ac9170cb2563"
   },
   "outputs": [
    {
     "data": {
      "text/html": [
       "<div>\n",
       "<style scoped>\n",
       "    .dataframe tbody tr th:only-of-type {\n",
       "        vertical-align: middle;\n",
       "    }\n",
       "\n",
       "    .dataframe tbody tr th {\n",
       "        vertical-align: top;\n",
       "    }\n",
       "\n",
       "    .dataframe thead th {\n",
       "        text-align: right;\n",
       "    }\n",
       "</style>\n",
       "<table border=\"1\" class=\"dataframe\">\n",
       "  <thead>\n",
       "    <tr style=\"text-align: right;\">\n",
       "      <th></th>\n",
       "      <th>customer_id</th>\n",
       "      <th>TRANSACTION_ID</th>\n",
       "      <th>DAY</th>\n",
       "      <th>PRODUCT_ID</th>\n",
       "      <th>QUANTITY</th>\n",
       "      <th>SALES_VALUE</th>\n",
       "      <th>WEEK_NO</th>\n",
       "    </tr>\n",
       "  </thead>\n",
       "  <tbody>\n",
       "    <tr>\n",
       "      <th>0</th>\n",
       "      <td>2375</td>\n",
       "      <td>26984851472</td>\n",
       "      <td>1</td>\n",
       "      <td>1004906</td>\n",
       "      <td>1</td>\n",
       "      <td>1.39</td>\n",
       "      <td>1</td>\n",
       "    </tr>\n",
       "    <tr>\n",
       "      <th>1</th>\n",
       "      <td>2375</td>\n",
       "      <td>26984851472</td>\n",
       "      <td>1</td>\n",
       "      <td>1033142</td>\n",
       "      <td>1</td>\n",
       "      <td>0.82</td>\n",
       "      <td>1</td>\n",
       "    </tr>\n",
       "    <tr>\n",
       "      <th>2</th>\n",
       "      <td>2375</td>\n",
       "      <td>26984851472</td>\n",
       "      <td>1</td>\n",
       "      <td>1036325</td>\n",
       "      <td>1</td>\n",
       "      <td>0.99</td>\n",
       "      <td>1</td>\n",
       "    </tr>\n",
       "    <tr>\n",
       "      <th>3</th>\n",
       "      <td>2375</td>\n",
       "      <td>26984851472</td>\n",
       "      <td>1</td>\n",
       "      <td>1082185</td>\n",
       "      <td>1</td>\n",
       "      <td>1.21</td>\n",
       "      <td>1</td>\n",
       "    </tr>\n",
       "    <tr>\n",
       "      <th>4</th>\n",
       "      <td>2375</td>\n",
       "      <td>26984851472</td>\n",
       "      <td>1</td>\n",
       "      <td>8160430</td>\n",
       "      <td>1</td>\n",
       "      <td>1.50</td>\n",
       "      <td>1</td>\n",
       "    </tr>\n",
       "  </tbody>\n",
       "</table>\n",
       "</div>"
      ],
      "text/plain": [
       "   customer_id  TRANSACTION_ID  DAY  PRODUCT_ID  QUANTITY  SALES_VALUE  \\\n",
       "0         2375     26984851472    1     1004906         1         1.39   \n",
       "1         2375     26984851472    1     1033142         1         0.82   \n",
       "2         2375     26984851472    1     1036325         1         0.99   \n",
       "3         2375     26984851472    1     1082185         1         1.21   \n",
       "4         2375     26984851472    1     8160430         1         1.50   \n",
       "\n",
       "   WEEK_NO  \n",
       "0        1  \n",
       "1        1  \n",
       "2        1  \n",
       "3        1  \n",
       "4        1  "
      ]
     },
     "execution_count": 48,
     "metadata": {},
     "output_type": "execute_result"
    }
   ],
   "source": [
    "df_tx = pd.read_csv(\"transaction_data.csv\")\n",
    "df_tx = df_tx.rename(columns={'household_key': 'customer_id', 'BASKET_ID': 'TRANSACTION_ID'})\n",
    "dfs[\"transaction_data\"] = df_tx[['customer_id','TRANSACTION_ID','DAY','PRODUCT_ID','QUANTITY','SALES_VALUE','WEEK_NO']]\n",
    "dfs[\"transaction_data\"].head()"
   ]
  },
  {
   "cell_type": "markdown",
   "metadata": {
    "colab_type": "text",
    "id": "_aW35mCCaXnD"
   },
   "source": [
    "#### Now lets do some descriptive analysis on the transactional data. First, let's group the data by customers:"
   ]
  },
  {
   "cell_type": "code",
   "execution_count": 10,
   "metadata": {
    "colab": {},
    "colab_type": "code",
    "id": "7DWLXw5aaXnD"
   },
   "outputs": [],
   "source": [
    "grouped_sum = dfs[\"transaction_data\"].groupby(\"customer_id\").sum()"
   ]
  },
  {
   "cell_type": "markdown",
   "metadata": {
    "colab_type": "text",
    "id": "pXZg7WLzaXnF"
   },
   "source": [
    "#### Average amount of purchase by a customer within these two years is:"
   ]
  },
  {
   "cell_type": "code",
   "execution_count": 11,
   "metadata": {
    "colab": {
     "base_uri": "https://localhost:8080/",
     "height": 35
    },
    "colab_type": "code",
    "id": "VJcjoO3CaXnF",
    "outputId": "83884e0f-fa2c-46c4-9033-920522017e88"
   },
   "outputs": [
    {
     "data": {
      "text/plain": [
       "3223.0"
      ]
     },
     "execution_count": 11,
     "metadata": {},
     "output_type": "execute_result"
    }
   ],
   "source": [
    "av_purc = round(dfs['transaction_data'].SALES_VALUE.sum()/len(grouped_sum),1)\n",
    "av_purc"
   ]
  },
  {
   "cell_type": "markdown",
   "metadata": {
    "colab_type": "text",
    "id": "o7kwPoAJaXnH"
   },
   "source": [
    "#### Average total number of products purchased by a customer within two years is:"
   ]
  },
  {
   "cell_type": "code",
   "execution_count": 12,
   "metadata": {
    "colab": {
     "base_uri": "https://localhost:8080/",
     "height": 35
    },
    "colab_type": "code",
    "id": "VaiaIpDbaXnI",
    "outputId": "59105584-028f-4e6b-85e8-f15ca098ff6a"
   },
   "outputs": [
    {
     "data": {
      "text/plain": [
       "104274"
      ]
     },
     "execution_count": 12,
     "metadata": {},
     "output_type": "execute_result"
    }
   ],
   "source": [
    "av_tot_prod = round(grouped_sum[\"QUANTITY\"].mean())\n",
    "av_tot_prod"
   ]
  },
  {
   "cell_type": "markdown",
   "metadata": {
    "colab_type": "text",
    "id": "G1QbvCyAaXnJ"
   },
   "source": [
    "#### Average total number of unique products purchased by a customer within two years is:"
   ]
  },
  {
   "cell_type": "code",
   "execution_count": 13,
   "metadata": {
    "colab": {
     "base_uri": "https://localhost:8080/",
     "height": 35
    },
    "colab_type": "code",
    "id": "kF82_Mf0aXnJ",
    "outputId": "9f70d00a-95e8-431a-e798-6ad772f49479"
   },
   "outputs": [
    {
     "data": {
      "text/plain": [
       "561"
      ]
     },
     "execution_count": 13,
     "metadata": {},
     "output_type": "execute_result"
    }
   ],
   "source": [
    "av_uniq_prod = round(len(dfs[\"transaction_data\"].groupby([\"customer_id\",\"PRODUCT_ID\"]).sum()[\"QUANTITY\"])/len(grouped_sum))\n",
    "av_uniq_prod"
   ]
  },
  {
   "cell_type": "markdown",
   "metadata": {
    "colab_type": "text",
    "id": "WghC0gcaaXnL"
   },
   "source": [
    "#### Average number of visits per customer within two years is:"
   ]
  },
  {
   "cell_type": "code",
   "execution_count": 14,
   "metadata": {
    "colab": {
     "base_uri": "https://localhost:8080/",
     "height": 35
    },
    "colab_type": "code",
    "id": "MWSDXhNQaXnL",
    "outputId": "55855d02-de03-4df7-f86b-29d94681664e"
   },
   "outputs": [
    {
     "data": {
      "text/plain": [
       "90.2"
      ]
     },
     "execution_count": 14,
     "metadata": {},
     "output_type": "execute_result"
    }
   ],
   "source": [
    "av_days_visited = round(len(dfs[\"transaction_data\"].groupby([\"customer_id\",\"DAY\"]).count())/len(grouped_sum),1)\n",
    "av_days_visited"
   ]
  },
  {
   "cell_type": "markdown",
   "metadata": {
    "colab_type": "text",
    "id": "AuAtoBdoz2Ow"
   },
   "source": [
    "### Top Customers"
   ]
  },
  {
   "cell_type": "code",
   "execution_count": 15,
   "metadata": {
    "colab": {
     "base_uri": "https://localhost:8080/",
     "height": 521
    },
    "colab_type": "code",
    "id": "9H_MM9KZaXnP",
    "outputId": "ccf1eebe-9a8d-4875-e163-d67e5f4d4244"
   },
   "outputs": [
    {
     "data": {
      "image/png": "[encoded data removed]",
      "text/plain": [
       "<Figure size 1008x576 with 1 Axes>"
      ]
     },
     "metadata": {},
     "output_type": "display_data"
    }
   ],
   "source": [
    "purc_per_cust = dfs[\"transaction_data\"].groupby(\"customer_id\").sum()[\"SALES_VALUE\"].sort_values(ascending=False)\n",
    "purc_per_cust = pd.DataFrame(list(zip(purc_per_cust.index,purc_per_cust)),columns=[\"customer_id\",\"Total Purchase (USD)\"])\n",
    "fig_store = plt.figure(figsize=(14,8))\n",
    "sns.barplot(y=\"customer_id\",x=\"Total Purchase (USD)\",data = purc_per_cust[:20],order=purc_per_cust[:20][\"customer_id\"],orient=\"h\")\n",
    "plt.title('Top 20 Customers based on Purchase Number', fontsize=17)\n",
    "plt.xlabel('Total Purchases (USD)', fontsize=14)\n",
    "plt.ylabel('Customer ID', fontsize=14)\n",
    "plt.show()"
   ]
  },
  {
   "cell_type": "markdown",
   "metadata": {
    "colab_type": "text",
    "id": "0VVt85PjaXnQ"
   },
   "source": [
    "### Demographics Data\n",
    "Demographics data contains customer demographical information such as age group, income desc, etc. We will be using this table as a base and add few columns after feature engineering. Target variable for the churn prediction will be added in the final dataset before moving on to the predictive modeling."
   ]
  },
  {
   "cell_type": "code",
   "execution_count": 16,
   "metadata": {
    "colab": {
     "base_uri": "https://localhost:8080/",
     "height": 202
    },
    "colab_type": "code",
    "id": "ojlWm9VoaXnR",
    "outputId": "3e13dc03-fc83-45d8-a148-5a2c4c33413f"
   },
   "outputs": [
    {
     "data": {
      "text/html": [
       "<div>\n",
       "<style scoped>\n",
       "    .dataframe tbody tr th:only-of-type {\n",
       "        vertical-align: middle;\n",
       "    }\n",
       "\n",
       "    .dataframe tbody tr th {\n",
       "        vertical-align: top;\n",
       "    }\n",
       "\n",
       "    .dataframe thead th {\n",
       "        text-align: right;\n",
       "    }\n",
       "</style>\n",
       "<table border=\"1\" class=\"dataframe\">\n",
       "  <thead>\n",
       "    <tr style=\"text-align: right;\">\n",
       "      <th></th>\n",
       "      <th>AGE_DESC</th>\n",
       "      <th>INCOME_DESC</th>\n",
       "      <th>customer_id</th>\n",
       "    </tr>\n",
       "  </thead>\n",
       "  <tbody>\n",
       "    <tr>\n",
       "      <th>0</th>\n",
       "      <td>65+</td>\n",
       "      <td>35-49K</td>\n",
       "      <td>1</td>\n",
       "    </tr>\n",
       "    <tr>\n",
       "      <th>1</th>\n",
       "      <td>45-54</td>\n",
       "      <td>50-74K</td>\n",
       "      <td>7</td>\n",
       "    </tr>\n",
       "    <tr>\n",
       "      <th>2</th>\n",
       "      <td>25-34</td>\n",
       "      <td>25-34K</td>\n",
       "      <td>8</td>\n",
       "    </tr>\n",
       "    <tr>\n",
       "      <th>3</th>\n",
       "      <td>25-34</td>\n",
       "      <td>75-99K</td>\n",
       "      <td>13</td>\n",
       "    </tr>\n",
       "    <tr>\n",
       "      <th>4</th>\n",
       "      <td>45-54</td>\n",
       "      <td>50-74K</td>\n",
       "      <td>16</td>\n",
       "    </tr>\n",
       "  </tbody>\n",
       "</table>\n",
       "</div>"
      ],
      "text/plain": [
       "  AGE_DESC INCOME_DESC  customer_id\n",
       "0      65+      35-49K            1\n",
       "1    45-54      50-74K            7\n",
       "2    25-34      25-34K            8\n",
       "3    25-34      75-99K           13\n",
       "4    45-54      50-74K           16"
      ]
     },
     "execution_count": 16,
     "metadata": {},
     "output_type": "execute_result"
    }
   ],
   "source": [
    "dfs[\"hh_demographic\"] = pd.read_csv(\"hh_demographic.csv\")\n",
    "dfs[\"hh_demographic\"].head()"
   ]
  },
  {
   "cell_type": "markdown",
   "metadata": {
    "colab_type": "text",
    "id": "ZtpugYPeaXnT"
   },
   "source": [
    "Lets first start defining the functions for exploratory analysis of demographic variables:"
   ]
  },
  {
   "cell_type": "code",
   "execution_count": 17,
   "metadata": {
    "colab": {},
    "colab_type": "code",
    "id": "0EivQv6RaXnT"
   },
   "outputs": [],
   "source": [
    "def pie_categorical(data):\n",
    "    #function to plot the histogram of categorical variables in pie graph\n",
    "    features = data.columns\n",
    "    #plot pie charts of categorical variables\n",
    "    fig_pie_cat = plt.figure(figsize=(15,15))\n",
    "    count = 1\n",
    "    #calculate dynamic numbers of subplot rows and columns\n",
    "    cols = int(np.ceil(np.sqrt(len(features))))\n",
    "    rows = int(np.ceil(len(features)/cols))\n",
    "    for i in features:\n",
    "        ax = fig_pie_cat.add_subplot(rows,cols,count)\n",
    "        data[i].value_counts().plot(kind=\"pie\",autopct=\"%.1f%%\",ax=ax)\n",
    "        plt.ylabel(\"\")\n",
    "        plt.title(i,fontweight=\"bold\",fontsize=8)\n",
    "        count += 1\n",
    "\n",
    "def hist_numeric(data):\n",
    "    #function to plot the histogram of numeric variables\n",
    "    features = data.columns\n",
    "    fig_hists = plt.figure(figsize=(15,15))\n",
    "    fig_hists.subplots_adjust(hspace=0.5,wspace=0.5)\n",
    "    count = 1\n",
    "    #calculate dynamic numbers of subplot rows and columns\n",
    "    cols = int(np.ceil(np.sqrt(len(features))))\n",
    "    rows = int(np.ceil(len(features)/cols))\n",
    "    for i in features:\n",
    "        ax = fig_hists.add_subplot(rows,cols,count)\n",
    "        data[i].plot(kind=\"hist\",alpha=.5,bins=25,edgecolor=\"navy\",legend=False,ax=ax)\n",
    "        ax.set_xlabel(\"\")\n",
    "        ax.set_title(i,fontweight=\"bold\",fontsize=10)\n",
    "        count += 1"
   ]
  },
  {
   "cell_type": "markdown",
   "metadata": {
    "colab_type": "text",
    "id": "sxayIrdbaXnV"
   },
   "source": [
    "\n",
    "Since all variables are categorical in the demographics dataset, we will use our _piecategorical function. The pie charts below gives the distribution of each categorical variable in the demographics dataset."
   ]
  },
  {
   "cell_type": "code",
   "execution_count": 18,
   "metadata": {
    "colab": {
     "base_uri": "https://localhost:8080/",
     "height": 424
    },
    "colab_type": "code",
    "id": "nUaxS3emaXnW",
    "outputId": "33acc0d0-1b56-4cdd-9323-11bb66ccef48"
   },
   "outputs": [
    {
     "data": {
      "image/png": "[encoded data removed]",
      "text/plain": [
       "<Figure size 1080x1080 with 2 Axes>"
      ]
     },
     "metadata": {},
     "output_type": "display_data"
    }
   ],
   "source": [
    "pie_categorical(dfs[\"hh_demographic\"].drop(\"customer_id\",axis=1))"
   ]
  },
  {
   "cell_type": "markdown",
   "metadata": {
    "colab_type": "text",
    "id": "AWFmXAAvaXnY"
   },
   "source": [
    "## Churn Prediction\n",
    "Let's start working on the \"Churn Prediction\" problem from here.\n",
    "\n",
    "Datasets have been examined and found out that it does not contain a column which indicates whether customer is churned or not. Therefore we will have to define our own churn definition and move on to the modelling.\n",
    "\n",
    "A generally accepted retail churn rate is between five to sevent percent per year. Less than five percent is a great goal, but a churn rate over ten percent is cause for concern. Even as you acquire more customers, your business can't grow unless you have a greater volume of incoming customers than outgoing ones.\n",
    "\n",
    "Satisfying existing customers is actually more profitable than obtaining new ones. **It costs five times more to obtain a new customer than it does to retain an existing customer**. Decreasing your churn rate by five percent increases profits up to 125%.\n",
    "\n",
    "Let's define transactional churn:\n",
    "\n",
    "**A customer will be considered as churned if not purchased from a store 2 weeks or more.**\n",
    "\n",
    "2 weeks out threshold is chosen as it splits customers around 85%/15% No Churn/Churn."
   ]
  },
  {
   "cell_type": "code",
   "execution_count": 19,
   "metadata": {
    "colab": {
     "base_uri": "https://localhost:8080/",
     "height": 412
    },
    "colab_type": "code",
    "id": "TsjFAPrBaXnY",
    "outputId": "0a97f277-8eee-4ee8-a145-70cde38cf2c8"
   },
   "outputs": [
    {
     "data": {
      "image/png": "[encoded data removed]",
      "text/plain": [
       "<Figure size 720x432 with 1 Axes>"
      ]
     },
     "metadata": {},
     "output_type": "display_data"
    }
   ],
   "source": [
    "out_weeks_threshold = 2\n",
    "\n",
    "#weekly customer purchase amount\n",
    "weekly_purchase = dfs[\"transaction_data\"].groupby([\"customer_id\",\"WEEK_NO\"]).sum()[\"SALES_VALUE\"]\n",
    "weekly_purchase = weekly_purchase.unstack()\n",
    "\n",
    "#customer churned by their last 2 week's purchasing behaviour\n",
    "target = []\n",
    "common_cust = set(dfs[\"hh_demographic\"].customer_id) & set(dfs[\"transaction_data\"].customer_id)\n",
    "for cust in common_cust:\n",
    "  target.append(102-weekly_purchase.loc[cust].dropna().index[-1])\n",
    "\n",
    "target = pd.DataFrame(list(zip(common_cust,target)),columns=[\"customer_id\",\"No. of Churned Weeks\"])\n",
    "plt.figure(figsize=(10,6))\n",
    "ax = sns.distplot(target[\"No. of Churned Weeks\"],kde=False)\n",
    "ax.axvline(x=out_weeks_threshold,c=\"red\",label=\"Out weeks threshold\")\n",
    "ax.legend()\n",
    "ax.set_yscale(\"log\")\n",
    "ax.set_ylabel(\"Frequency (Log)\", fontsize=14)\n",
    "ax.set_xlabel(\"No. of Churned Weeks\", fontsize=14)\n",
    "\n",
    "plt.title('Churn Weeks Number', fontsize=17)\n",
    "plt.show()"
   ]
  },
  {
   "cell_type": "markdown",
   "metadata": {
    "colab_type": "text",
    "id": "9uWx0sxOaXna"
   },
   "source": [
    "Now lets generate our target variable for modelling:\n",
    "\n",
    "* Churned -> True\n",
    "* Not Churned -> False"
   ]
  },
  {
   "cell_type": "code",
   "execution_count": 20,
   "metadata": {
    "colab": {},
    "colab_type": "code",
    "id": "oQQ5TzEbaXna"
   },
   "outputs": [],
   "source": [
    "target[\"isChurned\"] = target[\"No. of Churned Weeks\"]>=out_weeks_threshold\n",
    "target.drop(\"No. of Churned Weeks\",axis=1,inplace=True)"
   ]
  },
  {
   "cell_type": "markdown",
   "metadata": {
    "colab_type": "text",
    "id": "-bbguE7WaXnb"
   },
   "source": [
    "Let's see how customers split with the defined churn:"
   ]
  },
  {
   "cell_type": "code",
   "execution_count": 21,
   "metadata": {
    "colab": {
     "base_uri": "https://localhost:8080/",
     "height": 264
    },
    "colab_type": "code",
    "id": "JbM5DUb8aXnc",
    "outputId": "51a5c9f4-c355-4578-a163-46fa1702e78b"
   },
   "outputs": [
    {
     "data": {
      "image/png": "[encoded data removed]",
      "text/plain": [
       "<Figure size 432x288 with 1 Axes>"
      ]
     },
     "metadata": {},
     "output_type": "display_data"
    }
   ],
   "source": [
    "target.isChurned.value_counts().plot(kind=\"pie\",autopct=\"%.1f%%\",labels=[\"Non-Churned\",\"Churned\"])\n",
    "plt.ylabel(\"\")\n",
    "plt.title(\"Churn Variable Distribution\",fontweight=\"bold\")\n",
    "plt.show()"
   ]
  },
  {
   "cell_type": "markdown",
   "metadata": {
    "colab_type": "text",
    "id": "2L7SBC8_aXne"
   },
   "source": [
    "### Feature engineering\n",
    "Let's generate some features from the \"Campaign Table\", \"Transaction Data\" and \"Coupon Redempt\" tables to be used in the churn prediction model:\n",
    "\n",
    "**Feature 1**: List of campaigns received by each customer:"
   ]
  },
  {
   "cell_type": "code",
   "execution_count": 22,
   "metadata": {
    "colab": {},
    "colab_type": "code",
    "id": "4wE7weInaXne"
   },
   "outputs": [],
   "source": [
    "total_customers = 2500\n",
    "customer_per_campaign = dfs[\"campaign_table\"].groupby(\"CAMPAIGN\")[\"customer_id\"].apply(list)\n",
    "total_campaigns = len(dfs[\"campaign_table\"].CAMPAIGN.unique())\n",
    "df_camp = pd.DataFrame(np.full((total_customers,total_campaigns),0),columns=[\"Camp_\"+str(i) for i in range(1,total_campaigns+1)],\n",
    "                                                                                                           index=range(1,total_customers+1))\n",
    "for camp in customer_per_campaign.index:\n",
    "    df_camp.loc[customer_per_campaign[camp],\"Camp_\"+str(camp)] = 1\n",
    "\n",
    "df_camp[\"customer_id\"] = df_camp.index"
   ]
  },
  {
   "cell_type": "markdown",
   "metadata": {
    "colab_type": "text",
    "id": "jngUXqCsaXnf"
   },
   "source": [
    "**Feature 2**: Total number of received campaigns per customer:"
   ]
  },
  {
   "cell_type": "code",
   "execution_count": 23,
   "metadata": {
    "colab": {},
    "colab_type": "code",
    "id": "p4NFSg7eaXng"
   },
   "outputs": [],
   "source": [
    "temp = dfs[\"campaign_table\"].customer_id.value_counts().sort_index()\n",
    "no_of_received_campaigns = pd.DataFrame(list(zip(temp.index,temp.values.astype(int))),columns=[\"customer_id\",\"no_of_received_campaigns\"])"
   ]
  },
  {
   "cell_type": "markdown",
   "metadata": {
    "colab_type": "text",
    "id": "Uv_YuQJGaXnk"
   },
   "source": [
    "**Feature 3**: List of campaigns resulted in coupon redemption:"
   ]
  },
  {
   "cell_type": "code",
   "execution_count": 24,
   "metadata": {
    "colab": {},
    "colab_type": "code",
    "id": "RNMq5pqdaXnl"
   },
   "outputs": [],
   "source": [
    "temp = dfs[\"coupon_redempt\"].groupby(\"customer_id\")[\"CAMPAIGN\"].apply(list)\n",
    "rede_camp_history_per_customer = pd.DataFrame(list(zip(temp.index,temp.values)),columns=[\"customer_id\",\"redeemed_CAMPAIGN_list\"])"
   ]
  },
  {
   "cell_type": "markdown",
   "metadata": {
    "colab_type": "text",
    "id": "vSpV_8vnaXnm"
   },
   "source": [
    "**Feature 4**: The number of redemptions made by each customer:"
   ]
  },
  {
   "cell_type": "code",
   "execution_count": 25,
   "metadata": {
    "colab": {},
    "colab_type": "code",
    "id": "hhASjG-AaXnm"
   },
   "outputs": [],
   "source": [
    "temp = dfs[\"coupon_redempt\"].customer_id.value_counts().sort_index()\n",
    "no_of_rede_per_customer = pd.DataFrame(list(zip(temp.index,temp.values.astype(int))),columns=[\"customer_id\",\"no_of_redeems\"])"
   ]
  },
  {
   "cell_type": "markdown",
   "metadata": {
    "colab_type": "text",
    "id": "CERDZFEaaXns"
   },
   "source": [
    "**Feature 5:** Amount of purchase of a customer within two years:"
   ]
  },
  {
   "cell_type": "code",
   "execution_count": 26,
   "metadata": {
    "colab": {},
    "colab_type": "code",
    "id": "mmDt-7A5aXns"
   },
   "outputs": [],
   "source": [
    "purc_per_cust = dfs[\"transaction_data\"].groupby(\"customer_id\").sum()[\"SALES_VALUE\"].sort_values(ascending=False)\n",
    "purc_per_cust = pd.DataFrame(list(zip(purc_per_cust.index,purc_per_cust)),columns=[\"customer_id\",\"Total Purchase (USD)\"])"
   ]
  },
  {
   "cell_type": "markdown",
   "metadata": {
    "colab_type": "text",
    "id": "0_KnmSuoaXnu"
   },
   "source": [
    "### Last touches on the dataset\n",
    "Generate the final dataframe to be used for predictive modelling"
   ]
  },
  {
   "cell_type": "code",
   "execution_count": 27,
   "metadata": {
    "colab": {},
    "colab_type": "code",
    "id": "tKgwgUSEaXnu"
   },
   "outputs": [],
   "source": [
    "data = pd.merge(dfs[\"hh_demographic\"],df_camp,on=\"customer_id\",how=\"left\")\n",
    "data = pd.merge(data,no_of_received_campaigns,on=\"customer_id\",how=\"left\")\n",
    "data = pd.merge(data,no_of_rede_per_customer,on=\"customer_id\",how=\"left\")\n",
    "data = pd.merge(data,purc_per_cust,on=\"customer_id\",how=\"left\")\n",
    "data = pd.merge(data,target,on=\"customer_id\",how=\"left\")"
   ]
  },
  {
   "cell_type": "code",
   "execution_count": 28,
   "metadata": {
    "colab": {
     "base_uri": "https://localhost:8080/",
     "height": 35
    },
    "colab_type": "code",
    "id": "2sbptMWLaXnw",
    "outputId": "778e63b3-9d96-4e21-b497-1a5c2fac46f0"
   },
   "outputs": [
    {
     "data": {
      "text/plain": [
       "(801, 37)"
      ]
     },
     "execution_count": 28,
     "metadata": {},
     "output_type": "execute_result"
    }
   ],
   "source": [
    "data.shape"
   ]
  },
  {
   "cell_type": "code",
   "execution_count": 29,
   "metadata": {
    "colab": {
     "base_uri": "https://localhost:8080/",
     "height": 257
    },
    "colab_type": "code",
    "id": "VP0legv2aXny",
    "outputId": "b65eddf4-99c2-46a0-d264-8b390cb13124"
   },
   "outputs": [
    {
     "data": {
      "text/html": [
       "<div>\n",
       "<style scoped>\n",
       "    .dataframe tbody tr th:only-of-type {\n",
       "        vertical-align: middle;\n",
       "    }\n",
       "\n",
       "    .dataframe tbody tr th {\n",
       "        vertical-align: top;\n",
       "    }\n",
       "\n",
       "    .dataframe thead th {\n",
       "        text-align: right;\n",
       "    }\n",
       "</style>\n",
       "<table border=\"1\" class=\"dataframe\">\n",
       "  <thead>\n",
       "    <tr style=\"text-align: right;\">\n",
       "      <th></th>\n",
       "      <th>AGE_DESC</th>\n",
       "      <th>INCOME_DESC</th>\n",
       "      <th>customer_id</th>\n",
       "      <th>Camp_1</th>\n",
       "      <th>Camp_2</th>\n",
       "      <th>Camp_3</th>\n",
       "      <th>Camp_4</th>\n",
       "      <th>Camp_5</th>\n",
       "      <th>Camp_6</th>\n",
       "      <th>Camp_7</th>\n",
       "      <th>...</th>\n",
       "      <th>Camp_25</th>\n",
       "      <th>Camp_26</th>\n",
       "      <th>Camp_27</th>\n",
       "      <th>Camp_28</th>\n",
       "      <th>Camp_29</th>\n",
       "      <th>Camp_30</th>\n",
       "      <th>no_of_received_campaigns</th>\n",
       "      <th>no_of_redeems</th>\n",
       "      <th>Total Purchase (USD)</th>\n",
       "      <th>isChurned</th>\n",
       "    </tr>\n",
       "  </thead>\n",
       "  <tbody>\n",
       "    <tr>\n",
       "      <th>0</th>\n",
       "      <td>65+</td>\n",
       "      <td>35-49K</td>\n",
       "      <td>1</td>\n",
       "      <td>0</td>\n",
       "      <td>0</td>\n",
       "      <td>0</td>\n",
       "      <td>0</td>\n",
       "      <td>0</td>\n",
       "      <td>0</td>\n",
       "      <td>0</td>\n",
       "      <td>...</td>\n",
       "      <td>0</td>\n",
       "      <td>0</td>\n",
       "      <td>0</td>\n",
       "      <td>0</td>\n",
       "      <td>1</td>\n",
       "      <td>0</td>\n",
       "      <td>8.0</td>\n",
       "      <td>5.0</td>\n",
       "      <td>4330.16</td>\n",
       "      <td>False</td>\n",
       "    </tr>\n",
       "    <tr>\n",
       "      <th>1</th>\n",
       "      <td>45-54</td>\n",
       "      <td>50-74K</td>\n",
       "      <td>7</td>\n",
       "      <td>0</td>\n",
       "      <td>0</td>\n",
       "      <td>0</td>\n",
       "      <td>0</td>\n",
       "      <td>0</td>\n",
       "      <td>0</td>\n",
       "      <td>0</td>\n",
       "      <td>...</td>\n",
       "      <td>0</td>\n",
       "      <td>0</td>\n",
       "      <td>0</td>\n",
       "      <td>0</td>\n",
       "      <td>0</td>\n",
       "      <td>0</td>\n",
       "      <td>4.0</td>\n",
       "      <td>NaN</td>\n",
       "      <td>3400.05</td>\n",
       "      <td>False</td>\n",
       "    </tr>\n",
       "    <tr>\n",
       "      <th>2</th>\n",
       "      <td>25-34</td>\n",
       "      <td>25-34K</td>\n",
       "      <td>8</td>\n",
       "      <td>0</td>\n",
       "      <td>0</td>\n",
       "      <td>0</td>\n",
       "      <td>1</td>\n",
       "      <td>1</td>\n",
       "      <td>0</td>\n",
       "      <td>0</td>\n",
       "      <td>...</td>\n",
       "      <td>0</td>\n",
       "      <td>0</td>\n",
       "      <td>0</td>\n",
       "      <td>0</td>\n",
       "      <td>1</td>\n",
       "      <td>0</td>\n",
       "      <td>10.0</td>\n",
       "      <td>1.0</td>\n",
       "      <td>5534.97</td>\n",
       "      <td>False</td>\n",
       "    </tr>\n",
       "    <tr>\n",
       "      <th>3</th>\n",
       "      <td>25-34</td>\n",
       "      <td>75-99K</td>\n",
       "      <td>13</td>\n",
       "      <td>0</td>\n",
       "      <td>0</td>\n",
       "      <td>0</td>\n",
       "      <td>1</td>\n",
       "      <td>1</td>\n",
       "      <td>0</td>\n",
       "      <td>0</td>\n",
       "      <td>...</td>\n",
       "      <td>0</td>\n",
       "      <td>0</td>\n",
       "      <td>0</td>\n",
       "      <td>0</td>\n",
       "      <td>0</td>\n",
       "      <td>0</td>\n",
       "      <td>10.0</td>\n",
       "      <td>21.0</td>\n",
       "      <td>13190.92</td>\n",
       "      <td>False</td>\n",
       "    </tr>\n",
       "    <tr>\n",
       "      <th>4</th>\n",
       "      <td>45-54</td>\n",
       "      <td>50-74K</td>\n",
       "      <td>16</td>\n",
       "      <td>0</td>\n",
       "      <td>1</td>\n",
       "      <td>0</td>\n",
       "      <td>0</td>\n",
       "      <td>0</td>\n",
       "      <td>0</td>\n",
       "      <td>0</td>\n",
       "      <td>...</td>\n",
       "      <td>0</td>\n",
       "      <td>0</td>\n",
       "      <td>0</td>\n",
       "      <td>0</td>\n",
       "      <td>0</td>\n",
       "      <td>0</td>\n",
       "      <td>2.0</td>\n",
       "      <td>NaN</td>\n",
       "      <td>1512.02</td>\n",
       "      <td>True</td>\n",
       "    </tr>\n",
       "  </tbody>\n",
       "</table>\n",
       "<p>5 rows × 37 columns</p>\n",
       "</div>"
      ],
      "text/plain": [
       "  AGE_DESC INCOME_DESC  customer_id  Camp_1  Camp_2  Camp_3  Camp_4  Camp_5  \\\n",
       "0      65+      35-49K            1       0       0       0       0       0   \n",
       "1    45-54      50-74K            7       0       0       0       0       0   \n",
       "2    25-34      25-34K            8       0       0       0       1       1   \n",
       "3    25-34      75-99K           13       0       0       0       1       1   \n",
       "4    45-54      50-74K           16       0       1       0       0       0   \n",
       "\n",
       "   Camp_6  Camp_7  ...  Camp_25  Camp_26  Camp_27  Camp_28  Camp_29  Camp_30  \\\n",
       "0       0       0  ...        0        0        0        0        1        0   \n",
       "1       0       0  ...        0        0        0        0        0        0   \n",
       "2       0       0  ...        0        0        0        0        1        0   \n",
       "3       0       0  ...        0        0        0        0        0        0   \n",
       "4       0       0  ...        0        0        0        0        0        0   \n",
       "\n",
       "   no_of_received_campaigns  no_of_redeems  Total Purchase (USD)  isChurned  \n",
       "0                       8.0            5.0               4330.16      False  \n",
       "1                       4.0            NaN               3400.05      False  \n",
       "2                      10.0            1.0               5534.97      False  \n",
       "3                      10.0           21.0              13190.92      False  \n",
       "4                       2.0            NaN               1512.02       True  \n",
       "\n",
       "[5 rows x 37 columns]"
      ]
     },
     "execution_count": 29,
     "metadata": {},
     "output_type": "execute_result"
    }
   ],
   "source": [
    "data.head()"
   ]
  },
  {
   "cell_type": "markdown",
   "metadata": {
    "colab_type": "text",
    "id": "dG6F_M3zaXn0"
   },
   "source": [
    "Change NaN or None/Unknown values to zero for the columns of \"number of received campaigns\", \"kid category\" and the \"number of redeems\""
   ]
  },
  {
   "cell_type": "code",
   "execution_count": 30,
   "metadata": {
    "colab": {},
    "colab_type": "code",
    "id": "qMmw3M3HaXn0"
   },
   "outputs": [],
   "source": [
    "data.no_of_received_campaigns.replace(np.nan,0,inplace=True)\n",
    "data.no_of_received_campaigns = data.no_of_received_campaigns.astype(int)\n",
    "data.no_of_redeems.replace(np.nan,0,inplace=True)"
   ]
  },
  {
   "cell_type": "code",
   "execution_count": 31,
   "metadata": {
    "colab": {
     "base_uri": "https://localhost:8080/",
     "height": 780
    },
    "colab_type": "code",
    "id": "4l4i8sCpaXn4",
    "outputId": "2c9a8834-e189-42f0-fe33-782479099c12"
   },
   "outputs": [
    {
     "name": "stdout",
     "output_type": "stream",
     "text": [
      "<class 'pandas.core.frame.DataFrame'>\n",
      "Int64Index: 801 entries, 0 to 800\n",
      "Data columns (total 37 columns):\n",
      " #   Column                    Non-Null Count  Dtype  \n",
      "---  ------                    --------------  -----  \n",
      " 0   AGE_DESC                  801 non-null    object \n",
      " 1   INCOME_DESC               801 non-null    object \n",
      " 2   customer_id               801 non-null    int64  \n",
      " 3   Camp_1                    801 non-null    int32  \n",
      " 4   Camp_2                    801 non-null    int32  \n",
      " 5   Camp_3                    801 non-null    int32  \n",
      " 6   Camp_4                    801 non-null    int32  \n",
      " 7   Camp_5                    801 non-null    int32  \n",
      " 8   Camp_6                    801 non-null    int32  \n",
      " 9   Camp_7                    801 non-null    int32  \n",
      " 10  Camp_8                    801 non-null    int32  \n",
      " 11  Camp_9                    801 non-null    int32  \n",
      " 12  Camp_10                   801 non-null    int32  \n",
      " 13  Camp_11                   801 non-null    int32  \n",
      " 14  Camp_12                   801 non-null    int32  \n",
      " 15  Camp_13                   801 non-null    int32  \n",
      " 16  Camp_14                   801 non-null    int32  \n",
      " 17  Camp_15                   801 non-null    int32  \n",
      " 18  Camp_16                   801 non-null    int32  \n",
      " 19  Camp_17                   801 non-null    int32  \n",
      " 20  Camp_18                   801 non-null    int32  \n",
      " 21  Camp_19                   801 non-null    int32  \n",
      " 22  Camp_20                   801 non-null    int32  \n",
      " 23  Camp_21                   801 non-null    int32  \n",
      " 24  Camp_22                   801 non-null    int32  \n",
      " 25  Camp_23                   801 non-null    int32  \n",
      " 26  Camp_24                   801 non-null    int32  \n",
      " 27  Camp_25                   801 non-null    int32  \n",
      " 28  Camp_26                   801 non-null    int32  \n",
      " 29  Camp_27                   801 non-null    int32  \n",
      " 30  Camp_28                   801 non-null    int32  \n",
      " 31  Camp_29                   801 non-null    int32  \n",
      " 32  Camp_30                   801 non-null    int32  \n",
      " 33  no_of_received_campaigns  801 non-null    int32  \n",
      " 34  no_of_redeems             801 non-null    float64\n",
      " 35  Total Purchase (USD)      801 non-null    float64\n",
      " 36  isChurned                 801 non-null    bool   \n",
      "dtypes: bool(1), float64(2), int32(31), int64(1), object(2)\n",
      "memory usage: 135.3+ KB\n"
     ]
    }
   ],
   "source": [
    "data.info()"
   ]
  },
  {
   "cell_type": "markdown",
   "metadata": {
    "colab_type": "text",
    "id": "_jqlHbvLaXn7"
   },
   "source": [
    "Let's see how our features interact with the target variable. Start with the \"Age\" variable:\n",
    "\n",
    "* Customers with the age of 55-64 tend to churn less then the rest of other age groups\n",
    "* No monotonic increase or decrease observed with age"
   ]
  },
  {
   "cell_type": "code",
   "execution_count": 32,
   "metadata": {
    "colab": {
     "base_uri": "https://localhost:8080/",
     "height": 280
    },
    "colab_type": "code",
    "id": "-vrFauj4aXn7",
    "outputId": "a038e87d-dbf0-4559-fc7d-1625334ceaf5"
   },
   "outputs": [
    {
     "data": {
      "image/png": "[encoded data removed]",
      "text/plain": [
       "<Figure size 432x288 with 1 Axes>"
      ]
     },
     "metadata": {},
     "output_type": "display_data"
    }
   ],
   "source": [
    "ax = sns.barplot(x=\"AGE_DESC\",y=\"isChurned\",data=data,order=[\"19-24\",\"25-34\",\"35-44\",\"45-54\",\"55-64\",\"65+\"])\n",
    "ax.axhline(y=data.isChurned.sum()/len(data),c=\"red\",label=\"population mean\")\n",
    "ax.legend()\n",
    "plt.show()"
   ]
  },
  {
   "cell_type": "markdown",
   "metadata": {
    "colab_type": "text",
    "id": "lDZ5q-rvaXn-"
   },
   "source": [
    "Income vs Churn Rate:\n",
    "\n",
    "* No monotonic increase or decrease observed over the income groups\n",
    "* However as seen in the barchart below, no churn was observed when a customer's income reaches to 175K and more "
   ]
  },
  {
   "cell_type": "code",
   "execution_count": 33,
   "metadata": {
    "colab": {
     "base_uri": "https://localhost:8080/",
     "height": 369
    },
    "colab_type": "code",
    "id": "HcFQ_ldsaXn_",
    "outputId": "83c6159f-96da-4869-aef4-9c9a4d960439"
   },
   "outputs": [
    {
     "data": {
      "image/png": "[encoded data removed]",
      "text/plain": [
       "<Figure size 576x360 with 1 Axes>"
      ]
     },
     "metadata": {},
     "output_type": "display_data"
    }
   ],
   "source": [
    "fig = plt.figure(figsize=(8,5))\n",
    "ax = sns.barplot(x=\"INCOME_DESC\",y=\"isChurned\",data=data,\n",
    "                 order=[\"Under 15K\",\"15-24K\",\"25-34K\",\"35-49K\",\"50-74K\",\"75-99K\",\"100-124K\",\"125-149K\",\"150-174K\",\"175-199K\",\"200-249K\",\"250K+\"])\n",
    "ax.set_xticklabels(ax.get_xticklabels(),rotation=45)\n",
    "ax.axhline(y=data.isChurned.sum()/len(data),c=\"red\",label=\"population mean\")\n",
    "ax.legend()\n",
    "plt.show()"
   ]
  },
  {
   "cell_type": "markdown",
   "metadata": {
    "colab_type": "text",
    "id": "mTVy3g6taXoE"
   },
   "source": [
    "Number of Redeems vs Churn Rate:\n",
    "\n",
    "Lets group our data based on customer's number of redeems. We will use pandas.cut which groups the number of redeems into the bins. Graph below separates 0 redeemers, redeemed once and the final group redeemed more than once:\n",
    "\n",
    "* Churn rate decreases as the number of redeems increase"
   ]
  },
  {
   "cell_type": "code",
   "execution_count": 34,
   "metadata": {
    "colab": {
     "base_uri": "https://localhost:8080/",
     "height": 279
    },
    "colab_type": "code",
    "id": "gMcSRxdVaXoE",
    "outputId": "e891717a-27a0-450c-92ee-e65b3bd4acca"
   },
   "outputs": [
    {
     "data": {
      "image/png": "[encoded data removed]",
      "text/plain": [
       "<Figure size 432x288 with 1 Axes>"
      ]
     },
     "metadata": {},
     "output_type": "display_data"
    }
   ],
   "source": [
    "ax = sns.barplot(y=pd.cut(data.no_of_redeems,bins=[-0.1,0,1,35],duplicates=\"drop\"),x=\"isChurned\",data=data,orient=\"h\")\n",
    "ax.axvline(x=data.isChurned.sum()/len(data),c=\"red\",label=\"population mean\")\n",
    "ax.legend()\n",
    "plt.show()"
   ]
  },
  {
   "cell_type": "markdown",
   "metadata": {
    "colab_type": "text",
    "id": "lse0U5f3aXoG"
   },
   "source": [
    "Churn rate vs Number of campaigns used by a customer\n",
    "\n",
    "* Churn rate decreases as the number of campaigns received by a customer increases"
   ]
  },
  {
   "cell_type": "code",
   "execution_count": 35,
   "metadata": {
    "colab": {
     "base_uri": "https://localhost:8080/",
     "height": 279
    },
    "colab_type": "code",
    "id": "YrY9yQMyaXoH",
    "outputId": "9d82597d-ba66-4f7e-bd2a-1c032557d0d2"
   },
   "outputs": [
    {
     "data": {
      "image/png": "[encoded data removed]",
      "text/plain": [
       "<Figure size 432x288 with 1 Axes>"
      ]
     },
     "metadata": {},
     "output_type": "display_data"
    }
   ],
   "source": [
    "ax = sns.barplot(y=pd.qcut(data.no_of_received_campaigns,5,duplicates=\"drop\"),x=\"isChurned\",data=data,orient=\"h\")\n",
    "ax.axvline(x=data.isChurned.sum()/len(data),c=\"red\",label=\"population mean\")\n",
    "ax.legend()\n",
    "plt.show()"
   ]
  },
  {
   "cell_type": "markdown",
   "metadata": {
    "colab_type": "text",
    "id": "A6R9a9wNaXoM"
   },
   "source": [
    "Total purchase of a customer vs Churn rate:\n",
    "\n",
    "* Total purchase amount of a customer is a clear separator, expected to perform well as a feature in the churn prediction model\n",
    "* Churn rate decreases as total amount of purchase of a customer (within 2 years) increases"
   ]
  },
  {
   "cell_type": "code",
   "execution_count": 36,
   "metadata": {
    "colab": {
     "base_uri": "https://localhost:8080/",
     "height": 279
    },
    "colab_type": "code",
    "id": "dDkLbLNVaXoN",
    "outputId": "b7b470a8-23ff-40ce-b5a4-0bf2e7134e27"
   },
   "outputs": [
    {
     "data": {
      "image/png": "[encoded data removed]",
      "text/plain": [
       "<Figure size 432x288 with 1 Axes>"
      ]
     },
     "metadata": {},
     "output_type": "display_data"
    }
   ],
   "source": [
    "ax = sns.barplot(y=pd.qcut(data[\"Total Purchase (USD)\"],5,duplicates=\"drop\"),x=\"isChurned\",data=data,orient=\"h\")\n",
    "ax.axvline(x=data.isChurned.sum()/len(data),c=\"red\",label=\"population mean\")\n",
    "ax.legend()\n",
    "plt.show()"
   ]
  },
  {
   "cell_type": "markdown",
   "metadata": {
    "colab_type": "text",
    "id": "oSA6oks3aXoR"
   },
   "source": [
    "### ML Model Training & Testing\n",
    "In this section we will train a Machine Learning model with the training data. The machine learning model is chosen as XGBoost (Extreme Gradient Boosting) as they are known to be performing well with imbalanced datasets like ours."
   ]
  },
  {
   "cell_type": "code",
   "execution_count": 37,
   "metadata": {
    "colab": {
     "base_uri": "https://localhost:8080/",
     "height": 139
    },
    "colab_type": "code",
    "id": "kRaydO2zaXoR",
    "outputId": "259a7ac9-b5ef-48c7-af46-45b67001a2cc"
   },
   "outputs": [
    {
     "data": {
      "text/plain": [
       "XGBClassifier(base_score=0.5, booster='gbtree', colsample_bylevel=1,\n",
       "              colsample_bynode=1, colsample_bytree=1, gamma=0, gpu_id=-1,\n",
       "              importance_type='gain', interaction_constraints='',\n",
       "              learning_rate=0.300000012, max_delta_step=0, max_depth=6,\n",
       "              min_child_weight=1, missing=nan, monotone_constraints='()',\n",
       "              n_estimators=100, n_jobs=0, num_parallel_tree=1, random_state=0,\n",
       "              reg_alpha=0, reg_lambda=1, scale_pos_weight=1, subsample=1,\n",
       "              tree_method='exact', validate_parameters=1, verbosity=None)"
      ]
     },
     "execution_count": 37,
     "metadata": {},
     "output_type": "execute_result"
    }
   ],
   "source": [
    "from sklearn.ensemble import RandomForestClassifier\n",
    "from sklearn.model_selection import train_test_split\n",
    "from xgboost import XGBClassifier\n",
    "\n",
    "#one hot encoding categorical data for modelling\n",
    "encoded = pd.get_dummies(data[data.columns[data.dtypes==object]])\n",
    "data_encoded = pd.concat([encoded, data[data.columns[data.dtypes != object]]],axis=1)\n",
    "\n",
    "#Features (X) and the target (y)\n",
    "X = data_encoded.drop(\"isChurned\",axis=1)\n",
    "y = data_encoded.isChurned\n",
    "\n",
    "#lets start with the default hyperparameters and hold-out mechanism for train/test split\n",
    "X_train,X_test,y_train,y_test = train_test_split(X,y,test_size=0.25)\n",
    "\n",
    "#XGBoost\n",
    "xgb_mdl = XGBClassifier().fit(X_train.values,y_train.values)\n",
    "xgb_mdl"
   ]
  },
  {
   "cell_type": "code",
   "execution_count": 79,
   "metadata": {
    "colab": {
     "base_uri": "https://localhost:8080/",
     "height": 35
    },
    "colab_type": "code",
    "id": "MgfA__Wuz2QI",
    "outputId": "e98bc550-26ee-4132-ab16-87c6eb33005a"
   },
   "outputs": [
    {
     "data": {
      "text/plain": [
       "['Churn_Data']"
      ]
     },
     "execution_count": 79,
     "metadata": {
      "tags": []
     },
     "output_type": "execute_result"
    }
   ],
   "source": [
    "joblib.dump(xgb_mdl,'Churn_Model')\n",
    "joblib.dump(X_test,'Churn_Data')"
   ]
  },
  {
   "cell_type": "markdown",
   "metadata": {
    "colab_type": "text",
    "id": "TcsgkveuaXoS"
   },
   "source": [
    "We first transformed our categorical variables using one-hot encoding algorithm (get_dummies) to be able to use in our classifier. Then separated the data into train and test 75%/25%. Then generated an XGBoost classifier with it's default parameters and trained it with the training set.\n",
    "\n",
    "Now let's test our trained classifier with test data:"
   ]
  },
  {
   "cell_type": "code",
   "execution_count": 38,
   "metadata": {
    "colab": {
     "base_uri": "https://localhost:8080/",
     "height": 729
    },
    "colab_type": "code",
    "id": "Va0KJQzZaXoS",
    "outputId": "d3eb00dd-c911-4231-9cd1-4f44123a5193"
   },
   "outputs": [
    {
     "name": "stdout",
     "output_type": "stream",
     "text": [
      "Train Data Classification Report:\n",
      "\n",
      "              precision    recall  f1-score   support\n",
      "\n",
      "       False       1.00      1.00      1.00       520\n",
      "        True       1.00      1.00      1.00        80\n",
      "\n",
      "    accuracy                           1.00       600\n",
      "   macro avg       1.00      1.00      1.00       600\n",
      "weighted avg       1.00      1.00      1.00       600\n",
      "\n",
      "Test Data Classification Report:\n",
      "\n",
      "              precision    recall  f1-score   support\n",
      "\n",
      "       False       0.85      0.96      0.91       169\n",
      "        True       0.40      0.12      0.19        32\n",
      "\n",
      "    accuracy                           0.83       201\n",
      "   macro avg       0.63      0.54      0.55       201\n",
      "weighted avg       0.78      0.83      0.79       201\n",
      "\n"
     ]
    },
    {
     "data": {
      "text/plain": [
       "[Text(0.5, 16.0, 'predicted values'),\n",
       " Text(34.0, 0.5, 'real values'),\n",
       " Text(0.5, 1.0, 'Confusion Matrix')]"
      ]
     },
     "execution_count": 38,
     "metadata": {},
     "output_type": "execute_result"
    },
    {
     "data": {
      "image/png": "[encoded data removed]",
      "text/plain": [
       "<Figure size 432x288 with 2 Axes>"
      ]
     },
     "metadata": {},
     "output_type": "display_data"
    }
   ],
   "source": [
    "from sklearn.metrics import classification_report, roc_auc_score, confusion_matrix, average_precision_score\n",
    "\n",
    "#XGBoost\n",
    "y_pred_train = xgb_mdl.predict(X_train.values)\n",
    "y_pred = xgb_mdl.predict(X_test.values)\n",
    "\n",
    "print(\"Train Data Classification Report:\\n\")\n",
    "print(classification_report(y_train,y_pred_train))\n",
    "\n",
    "print(\"Test Data Classification Report:\\n\")\n",
    "print(classification_report(y_test,y_pred))\n",
    "\n",
    "#generate a confusion matrix to visualise precision, recall, misclassification and false alarms\n",
    "cm = pd.DataFrame(confusion_matrix(y_test, y_pred), index = list(set(y)), columns = list(set(y)))\n",
    "\n",
    "#visualise the confusion matrix in the heatmap form\n",
    "plt.figure()\n",
    "sns.heatmap(cm, annot = True, fmt=\"d\",\n",
    "            cmap=sns.color_palette(\"GnBu\")).set(xlabel='predicted values', \n",
    "                                                ylabel='real values', \n",
    "                                                title = 'Confusion Matrix')"
   ]
  },
  {
   "cell_type": "code",
   "execution_count": 39,
   "metadata": {
    "colab": {
     "base_uri": "https://localhost:8080/",
     "height": 35
    },
    "colab_type": "code",
    "id": "Y419HCICaXoT",
    "outputId": "d7996452-5d28-40c7-8671-309cc1a16f3f"
   },
   "outputs": [
    {
     "data": {
      "text/plain": [
       "0.5447485207100592"
      ]
     },
     "execution_count": 39,
     "metadata": {},
     "output_type": "execute_result"
    }
   ],
   "source": [
    "roc_auc_score(y_test,y_pred)\n",
    "# average_precision_score(y_test,y_pred)"
   ]
  },
  {
   "cell_type": "markdown",
   "metadata": {
    "colab_type": "text",
    "id": "Tdz15c6PaXoU"
   },
   "source": [
    "Our target variable is skewed towards not churned (86% are not churned). Even a very basic model which selects majority class all times would score 86% accuracy.\n",
    "\n",
    "Therefore we will have to focus on how well our model performs on the minority class (churned customers). On the test set we have 201 samples only 23 of them being churned. Our model could not manage to detect any of them, therefore test set recall has come out as 0%. This is the part we need to aim to increase.\n",
    "\n",
    "Now lets try to enhance our model by optimising hyperparameters by using \"Randomised Search\" with \"Cross-Validation\".\n",
    "\n",
    "We need to determine the evaluation criteria (scorer) to be optimised for the Randomised Search. Lets see the available scorers:\n",
    "\n",
    "* average precision, balanced accuracy, roc_auc, f1 are the scorers which are commonly used for imbalanced dataset classifications as they handle situation well as compared to other metrics"
   ]
  },
  {
   "cell_type": "code",
   "execution_count": 40,
   "metadata": {
    "colab": {
     "base_uri": "https://localhost:8080/",
     "height": 849
    },
    "colab_type": "code",
    "id": "9R985m7YaXoU",
    "outputId": "3e3cf1b7-5512-4c0b-fbd6-a17a6e500ed0"
   },
   "outputs": [
    {
     "data": {
      "text/plain": [
       "['accuracy',\n",
       " 'adjusted_mutual_info_score',\n",
       " 'adjusted_rand_score',\n",
       " 'average_precision',\n",
       " 'balanced_accuracy',\n",
       " 'completeness_score',\n",
       " 'explained_variance',\n",
       " 'f1',\n",
       " 'f1_macro',\n",
       " 'f1_micro',\n",
       " 'f1_samples',\n",
       " 'f1_weighted',\n",
       " 'fowlkes_mallows_score',\n",
       " 'homogeneity_score',\n",
       " 'jaccard',\n",
       " 'jaccard_macro',\n",
       " 'jaccard_micro',\n",
       " 'jaccard_samples',\n",
       " 'jaccard_weighted',\n",
       " 'max_error',\n",
       " 'mutual_info_score',\n",
       " 'neg_brier_score',\n",
       " 'neg_log_loss',\n",
       " 'neg_mean_absolute_error',\n",
       " 'neg_mean_gamma_deviance',\n",
       " 'neg_mean_poisson_deviance',\n",
       " 'neg_mean_squared_error',\n",
       " 'neg_mean_squared_log_error',\n",
       " 'neg_median_absolute_error',\n",
       " 'neg_root_mean_squared_error',\n",
       " 'normalized_mutual_info_score',\n",
       " 'precision',\n",
       " 'precision_macro',\n",
       " 'precision_micro',\n",
       " 'precision_samples',\n",
       " 'precision_weighted',\n",
       " 'r2',\n",
       " 'recall',\n",
       " 'recall_macro',\n",
       " 'recall_micro',\n",
       " 'recall_samples',\n",
       " 'recall_weighted',\n",
       " 'roc_auc',\n",
       " 'roc_auc_ovo',\n",
       " 'roc_auc_ovo_weighted',\n",
       " 'roc_auc_ovr',\n",
       " 'roc_auc_ovr_weighted',\n",
       " 'v_measure_score']"
      ]
     },
     "execution_count": 40,
     "metadata": {},
     "output_type": "execute_result"
    }
   ],
   "source": [
    "import sklearn\n",
    "sorted(sklearn.metrics.SCORERS.keys())"
   ]
  },
  {
   "cell_type": "code",
   "execution_count": 41,
   "metadata": {
    "colab": {
     "base_uri": "https://localhost:8080/",
     "height": 121
    },
    "colab_type": "code",
    "id": "8f57VvG3aXoV",
    "outputId": "bba58612-df1a-4987-b595-4467e38412d4"
   },
   "outputs": [
    {
     "ename": "OverflowError",
     "evalue": "Python int too large to convert to C long",
     "output_type": "error",
     "traceback": [
      "\u001b[1;31m---------------------------------------------------------------------------\u001b[0m",
      "\u001b[1;31mOverflowError\u001b[0m                             Traceback (most recent call last)",
      "\u001b[1;32m<ipython-input-41-c3d97dc58ea4>\u001b[0m in \u001b[0;36m<module>\u001b[1;34m\u001b[0m\n\u001b[0;32m     29\u001b[0m \u001b[1;33m\u001b[0m\u001b[0m\n\u001b[0;32m     30\u001b[0m \u001b[1;31m#Randomized Search\u001b[0m\u001b[1;33m\u001b[0m\u001b[1;33m\u001b[0m\u001b[1;33m\u001b[0m\u001b[0m\n\u001b[1;32m---> 31\u001b[1;33m \u001b[0mcv\u001b[0m \u001b[1;33m=\u001b[0m \u001b[0mRandomizedSearchCV\u001b[0m\u001b[1;33m(\u001b[0m\u001b[0mmdl\u001b[0m\u001b[1;33m,\u001b[0m\u001b[0mparam_list\u001b[0m\u001b[1;33m,\u001b[0m\u001b[0mcv\u001b[0m\u001b[1;33m=\u001b[0m\u001b[0mcv_strat\u001b[0m\u001b[1;33m,\u001b[0m\u001b[0mn_iter\u001b[0m\u001b[1;33m=\u001b[0m\u001b[1;36m100\u001b[0m\u001b[1;33m,\u001b[0m\u001b[0mverbose\u001b[0m\u001b[1;33m=\u001b[0m\u001b[1;36m1\u001b[0m\u001b[1;33m,\u001b[0m\u001b[0mscoring\u001b[0m\u001b[1;33m=\u001b[0m\u001b[1;34m\"balanced_accuracy\"\u001b[0m\u001b[1;33m,\u001b[0m\u001b[0mn_jobs\u001b[0m\u001b[1;33m=\u001b[0m\u001b[1;33m-\u001b[0m\u001b[1;36m1\u001b[0m\u001b[1;33m)\u001b[0m\u001b[1;33m.\u001b[0m\u001b[0mfit\u001b[0m\u001b[1;33m(\u001b[0m\u001b[0mX\u001b[0m\u001b[1;33m.\u001b[0m\u001b[0mvalues\u001b[0m\u001b[1;33m,\u001b[0m\u001b[0my\u001b[0m\u001b[1;33m.\u001b[0m\u001b[0mvalues\u001b[0m\u001b[1;33m)\u001b[0m\u001b[1;33m\u001b[0m\u001b[1;33m\u001b[0m\u001b[0m\n\u001b[0m\u001b[0;32m     32\u001b[0m \u001b[1;33m\u001b[0m\u001b[0m\n\u001b[0;32m     33\u001b[0m \u001b[1;31m#use the best estimator after the hyperparameter optimisation\u001b[0m\u001b[1;33m\u001b[0m\u001b[1;33m\u001b[0m\u001b[1;33m\u001b[0m\u001b[0m\n",
      "\u001b[1;32m~\\anaconda3\\envs\\v-env\\lib\\site-packages\\sklearn\\utils\\validation.py\u001b[0m in \u001b[0;36minner_f\u001b[1;34m(*args, **kwargs)\u001b[0m\n\u001b[0;32m     71\u001b[0m                           FutureWarning)\n\u001b[0;32m     72\u001b[0m         \u001b[0mkwargs\u001b[0m\u001b[1;33m.\u001b[0m\u001b[0mupdate\u001b[0m\u001b[1;33m(\u001b[0m\u001b[1;33m{\u001b[0m\u001b[0mk\u001b[0m\u001b[1;33m:\u001b[0m \u001b[0marg\u001b[0m \u001b[1;32mfor\u001b[0m \u001b[0mk\u001b[0m\u001b[1;33m,\u001b[0m \u001b[0marg\u001b[0m \u001b[1;32min\u001b[0m \u001b[0mzip\u001b[0m\u001b[1;33m(\u001b[0m\u001b[0msig\u001b[0m\u001b[1;33m.\u001b[0m\u001b[0mparameters\u001b[0m\u001b[1;33m,\u001b[0m \u001b[0margs\u001b[0m\u001b[1;33m)\u001b[0m\u001b[1;33m}\u001b[0m\u001b[1;33m)\u001b[0m\u001b[1;33m\u001b[0m\u001b[1;33m\u001b[0m\u001b[0m\n\u001b[1;32m---> 73\u001b[1;33m         \u001b[1;32mreturn\u001b[0m \u001b[0mf\u001b[0m\u001b[1;33m(\u001b[0m\u001b[1;33m**\u001b[0m\u001b[0mkwargs\u001b[0m\u001b[1;33m)\u001b[0m\u001b[1;33m\u001b[0m\u001b[1;33m\u001b[0m\u001b[0m\n\u001b[0m\u001b[0;32m     74\u001b[0m     \u001b[1;32mreturn\u001b[0m \u001b[0minner_f\u001b[0m\u001b[1;33m\u001b[0m\u001b[1;33m\u001b[0m\u001b[0m\n\u001b[0;32m     75\u001b[0m \u001b[1;33m\u001b[0m\u001b[0m\n",
      "\u001b[1;32m~\\anaconda3\\envs\\v-env\\lib\\site-packages\\sklearn\\model_selection\\_search.py\u001b[0m in \u001b[0;36mfit\u001b[1;34m(self, X, y, groups, **fit_params)\u001b[0m\n\u001b[0;32m    734\u001b[0m                 \u001b[1;32mreturn\u001b[0m \u001b[0mresults\u001b[0m\u001b[1;33m\u001b[0m\u001b[1;33m\u001b[0m\u001b[0m\n\u001b[0;32m    735\u001b[0m \u001b[1;33m\u001b[0m\u001b[0m\n\u001b[1;32m--> 736\u001b[1;33m             \u001b[0mself\u001b[0m\u001b[1;33m.\u001b[0m\u001b[0m_run_search\u001b[0m\u001b[1;33m(\u001b[0m\u001b[0mevaluate_candidates\u001b[0m\u001b[1;33m)\u001b[0m\u001b[1;33m\u001b[0m\u001b[1;33m\u001b[0m\u001b[0m\n\u001b[0m\u001b[0;32m    737\u001b[0m \u001b[1;33m\u001b[0m\u001b[0m\n\u001b[0;32m    738\u001b[0m         \u001b[1;31m# For multi-metric evaluation, store the best_index_, best_params_ and\u001b[0m\u001b[1;33m\u001b[0m\u001b[1;33m\u001b[0m\u001b[1;33m\u001b[0m\u001b[0m\n",
      "\u001b[1;32m~\\anaconda3\\envs\\v-env\\lib\\site-packages\\sklearn\\model_selection\\_search.py\u001b[0m in \u001b[0;36m_run_search\u001b[1;34m(self, evaluate_candidates)\u001b[0m\n\u001b[0;32m   1529\u001b[0m         evaluate_candidates(ParameterSampler(\n\u001b[0;32m   1530\u001b[0m             \u001b[0mself\u001b[0m\u001b[1;33m.\u001b[0m\u001b[0mparam_distributions\u001b[0m\u001b[1;33m,\u001b[0m \u001b[0mself\u001b[0m\u001b[1;33m.\u001b[0m\u001b[0mn_iter\u001b[0m\u001b[1;33m,\u001b[0m\u001b[1;33m\u001b[0m\u001b[1;33m\u001b[0m\u001b[0m\n\u001b[1;32m-> 1531\u001b[1;33m             random_state=self.random_state))\n\u001b[0m",
      "\u001b[1;32m~\\anaconda3\\envs\\v-env\\lib\\site-packages\\sklearn\\model_selection\\_search.py\u001b[0m in \u001b[0;36mevaluate_candidates\u001b[1;34m(candidate_params)\u001b[0m\n\u001b[0;32m    698\u001b[0m \u001b[1;33m\u001b[0m\u001b[0m\n\u001b[0;32m    699\u001b[0m             \u001b[1;32mdef\u001b[0m \u001b[0mevaluate_candidates\u001b[0m\u001b[1;33m(\u001b[0m\u001b[0mcandidate_params\u001b[0m\u001b[1;33m)\u001b[0m\u001b[1;33m:\u001b[0m\u001b[1;33m\u001b[0m\u001b[1;33m\u001b[0m\u001b[0m\n\u001b[1;32m--> 700\u001b[1;33m                 \u001b[0mcandidate_params\u001b[0m \u001b[1;33m=\u001b[0m \u001b[0mlist\u001b[0m\u001b[1;33m(\u001b[0m\u001b[0mcandidate_params\u001b[0m\u001b[1;33m)\u001b[0m\u001b[1;33m\u001b[0m\u001b[1;33m\u001b[0m\u001b[0m\n\u001b[0m\u001b[0;32m    701\u001b[0m                 \u001b[0mn_candidates\u001b[0m \u001b[1;33m=\u001b[0m \u001b[0mlen\u001b[0m\u001b[1;33m(\u001b[0m\u001b[0mcandidate_params\u001b[0m\u001b[1;33m)\u001b[0m\u001b[1;33m\u001b[0m\u001b[1;33m\u001b[0m\u001b[0m\n\u001b[0;32m    702\u001b[0m \u001b[1;33m\u001b[0m\u001b[0m\n",
      "\u001b[1;32m~\\anaconda3\\envs\\v-env\\lib\\site-packages\\sklearn\\model_selection\\_search.py\u001b[0m in \u001b[0;36m__iter__\u001b[1;34m(self)\u001b[0m\n\u001b[0;32m    283\u001b[0m                 \u001b[0mn_iter\u001b[0m \u001b[1;33m=\u001b[0m \u001b[0mgrid_size\u001b[0m\u001b[1;33m\u001b[0m\u001b[1;33m\u001b[0m\u001b[0m\n\u001b[0;32m    284\u001b[0m             for i in sample_without_replacement(grid_size, n_iter,\n\u001b[1;32m--> 285\u001b[1;33m                                                 random_state=rng):\n\u001b[0m\u001b[0;32m    286\u001b[0m                 \u001b[1;32myield\u001b[0m \u001b[0mparam_grid\u001b[0m\u001b[1;33m[\u001b[0m\u001b[0mi\u001b[0m\u001b[1;33m]\u001b[0m\u001b[1;33m\u001b[0m\u001b[1;33m\u001b[0m\u001b[0m\n\u001b[0;32m    287\u001b[0m \u001b[1;33m\u001b[0m\u001b[0m\n",
      "\u001b[1;32msklearn\\utils\\_random.pyx\u001b[0m in \u001b[0;36msklearn.utils._random.sample_without_replacement\u001b[1;34m()\u001b[0m\n",
      "\u001b[1;31mOverflowError\u001b[0m: Python int too large to convert to C long"
     ]
    }
   ],
   "source": [
    "from sklearn.model_selection import GridSearchCV, RepeatedStratifiedKFold, RandomizedSearchCV\n",
    "\n",
    "#shuffle the dataset to avoiding sampling biases\n",
    "data = data_encoded.sample(frac=1)\n",
    "X = data.drop(\"isChurned\",axis=1)\n",
    "y = data.isChurned\n",
    "\n",
    "#generate an XGB classifier\n",
    "mdl = XGBClassifier()\n",
    "\n",
    "#parameter ranges\n",
    "param_list = {\n",
    "    'silent': [False],\n",
    "    'max_depth': range(2,51),\n",
    "    'learning_rate': [0.001, 0.01, 0.1, 0.15],\n",
    "    'subsample': np.arange(0,1.1,.1),\n",
    "    'colsample_bytree': np.arange(0,1.1,.1),\n",
    "    'colsample_bylevel': np.arange(0,1.1,.1),\n",
    "    'min_child_weight': [0.5, 0.7, 1.0, 2.0, 3.0],\n",
    "    'gamma': [0, 0.25, 0.5, 0.75, 0.9, 1.0],\n",
    "    'reg_lambda': [0.1, 1.0, 5.0, 10.0, 50.0, 100.0, 500.0, 1000.0],\n",
    "    'n_estimators': [2, 5, 10, 20, 50, 100],\n",
    "    'scale_pos_weight': [1, 1.5, 2, 6, 6.1, 6.3, 6.5, 8],\n",
    "    'max_delta_step': [1, 2, 3, 5, 10]\n",
    "}\n",
    "\n",
    "kfold = 5\n",
    "cv_strat = RepeatedStratifiedKFold(n_splits=kfold,n_repeats=10)\n",
    "\n",
    "#Randomized Search\n",
    "cv = RandomizedSearchCV(mdl,param_list,cv=cv_strat,n_iter=100,verbose=1,scoring=\"balanced_accuracy\",n_jobs=-1).fit(X.values,y.values)\n",
    "\n",
    "#use the best estimator after the hyperparameter optimisation\n",
    "mdl_best = cv.best_estimator_"
   ]
  },
  {
   "cell_type": "code",
   "execution_count": 78,
   "metadata": {
    "colab": {
     "base_uri": "https://localhost:8080/",
     "height": 35
    },
    "colab_type": "code",
    "id": "RX4V-7a7z2Qa",
    "outputId": "c5dca269-3605-40e0-f45b-76cd2ba2ec62"
   },
   "outputs": [
    {
     "data": {
      "text/plain": [
       "['Best_Churn_Model']"
      ]
     },
     "execution_count": 78,
     "metadata": {
      "tags": []
     },
     "output_type": "execute_result"
    }
   ],
   "source": [
    "joblib.dump(mdl_best,'Best_Churn_Model')"
   ]
  },
  {
   "cell_type": "markdown",
   "metadata": {
    "colab_type": "text",
    "id": "NbRZrWVpaXoW"
   },
   "source": [
    "Hyperparameter optimisation is completed. Now lets train and test the XGBoost Classifier with the optimised hyperparameters"
   ]
  },
  {
   "cell_type": "code",
   "execution_count": 80,
   "metadata": {
    "colab": {
     "base_uri": "https://localhost:8080/",
     "height": 729
    },
    "colab_type": "code",
    "id": "ZQSpF0AOz2Qe",
    "outputId": "4288a935-aada-4b33-bbd5-bcea798d4425"
   },
   "outputs": [
    {
     "name": "stdout",
     "output_type": "stream",
     "text": [
      "Train Data Classification Report:\n",
      "\n",
      "              precision    recall  f1-score   support\n",
      "\n",
      "       False       0.93      0.62      0.74       510\n",
      "        True       0.25      0.72      0.37        90\n",
      "\n",
      "    accuracy                           0.63       600\n",
      "   macro avg       0.59      0.67      0.56       600\n",
      "weighted avg       0.82      0.63      0.69       600\n",
      "\n",
      "Test Data Classification Report:\n",
      "\n",
      "              precision    recall  f1-score   support\n",
      "\n",
      "       False       0.95      0.56      0.71       179\n",
      "        True       0.18      0.77      0.29        22\n",
      "\n",
      "    accuracy                           0.59       201\n",
      "   macro avg       0.57      0.67      0.50       201\n",
      "weighted avg       0.87      0.59      0.66       201\n",
      "\n"
     ]
    },
    {
     "data": {
      "text/plain": [
       "[Text(33.0, 0.5, 'real values'),\n",
       " Text(0.5, 15.0, 'predicted values'),\n",
       " Text(0.5, 1.0, 'Confusion Matrix')]"
      ]
     },
     "execution_count": 80,
     "metadata": {
      "tags": []
     },
     "output_type": "execute_result"
    },
    {
     "data": {
      "image/png": "[encoded data removed]",
      "text/plain": [
       "<Figure size 432x288 with 2 Axes>"
      ]
     },
     "metadata": {
      "needs_background": "light",
      "tags": []
     },
     "output_type": "display_data"
    }
   ],
   "source": [
    "#XGBoost with optimised parameters\n",
    "b_pred_train = mdl_best.predict(X_train.values)\n",
    "b_pred = mdl_best.predict(X_test.values)\n",
    "\n",
    "print(\"Train Data Classification Report:\\n\")\n",
    "print(classification_report(y_train,b_pred_train))\n",
    "\n",
    "print(\"Test Data Classification Report:\\n\")\n",
    "print(classification_report(y_test,b_pred))\n",
    "\n",
    "#generate a confusion matrix to visualise precision, recall, misclassification and false alarms\n",
    "cm = pd.DataFrame(confusion_matrix(y_test, b_pred), index = list(set(y)), columns = list(set(y)))\n",
    "\n",
    "#visualise the confusion matrix in the heatmap form\n",
    "plt.figure()\n",
    "sns.heatmap(cm, annot = True, fmt=\"d\",\n",
    "            cmap=sns.color_palette(\"GnBu\")).set(xlabel='predicted values', \n",
    "                                                ylabel='real values', \n",
    "                                                title = 'Confusion Matrix')"
   ]
  },
  {
   "cell_type": "code",
   "execution_count": 81,
   "metadata": {
    "colab": {
     "base_uri": "https://localhost:8080/",
     "height": 225
    },
    "colab_type": "code",
    "id": "xmmdvj2FaXoX",
    "outputId": "019b91dc-4539-4e71-ffec-1061c5d56ac3"
   },
   "outputs": [
    {
     "data": {
      "text/plain": [
       "{'colsample_bylevel': 0.6000000000000001,\n",
       " 'colsample_bytree': 0.6000000000000001,\n",
       " 'gamma': 0,\n",
       " 'learning_rate': 0.001,\n",
       " 'max_delta_step': 1,\n",
       " 'max_depth': 19,\n",
       " 'min_child_weight': 0.7,\n",
       " 'n_estimators': 20,\n",
       " 'reg_lambda': 1000.0,\n",
       " 'scale_pos_weight': 6.1,\n",
       " 'silent': False,\n",
       " 'subsample': 0.30000000000000004}"
      ]
     },
     "execution_count": 81,
     "metadata": {
      "tags": []
     },
     "output_type": "execute_result"
    }
   ],
   "source": [
    "cv.best_params_"
   ]
  },
  {
   "cell_type": "markdown",
   "metadata": {
    "colab_type": "text",
    "id": "Kw7QzdeDaXoY"
   },
   "source": [
    "_scale_pos_weight_ is the parameter used for biasing (weighing more) of the minority class samples. The higher the value the more bias towards minority class. In our dataset, the ratio between majority class samples and the minority class is 6.15 which coheres with this parameter (optimised value came out as 6).\n",
    "\n",
    "Lets test our optimised model with the data:"
   ]
  },
  {
   "cell_type": "code",
   "execution_count": 82,
   "metadata": {
    "colab": {
     "base_uri": "https://localhost:8080/",
     "height": 451
    },
    "colab_type": "code",
    "id": "5SMfdXCyaXoY",
    "outputId": "aece293e-5822-4c90-e190-8665bd74f7b5"
   },
   "outputs": [
    {
     "name": "stderr",
     "output_type": "stream",
     "text": [
      "[Parallel(n_jobs=-1)]: Using backend LokyBackend with 2 concurrent workers.\n",
      "[Parallel(n_jobs=-1)]: Done 100 out of 100 | elapsed:    2.9s finished\n"
     ]
    },
    {
     "data": {
      "text/html": [
       "<div>\n",
       "<style scoped>\n",
       "    .dataframe tbody tr th:only-of-type {\n",
       "        vertical-align: middle;\n",
       "    }\n",
       "\n",
       "    .dataframe tbody tr th {\n",
       "        vertical-align: top;\n",
       "    }\n",
       "\n",
       "    .dataframe thead th {\n",
       "        text-align: right;\n",
       "    }\n",
       "</style>\n",
       "<table border=\"1\" class=\"dataframe\">\n",
       "  <thead>\n",
       "    <tr style=\"text-align: right;\">\n",
       "      <th></th>\n",
       "      <th>Score</th>\n",
       "    </tr>\n",
       "  </thead>\n",
       "  <tbody>\n",
       "    <tr>\n",
       "      <th>test_roc_auc</th>\n",
       "      <td>0.629414</td>\n",
       "    </tr>\n",
       "    <tr>\n",
       "      <th>train_roc_auc</th>\n",
       "      <td>0.753050</td>\n",
       "    </tr>\n",
       "    <tr>\n",
       "      <th>test_recall</th>\n",
       "      <td>0.576047</td>\n",
       "    </tr>\n",
       "    <tr>\n",
       "      <th>train_recall</th>\n",
       "      <td>0.716137</td>\n",
       "    </tr>\n",
       "    <tr>\n",
       "      <th>test_precision</th>\n",
       "      <td>0.193353</td>\n",
       "    </tr>\n",
       "    <tr>\n",
       "      <th>train_precision</th>\n",
       "      <td>0.241526</td>\n",
       "    </tr>\n",
       "    <tr>\n",
       "      <th>test_accuracy</th>\n",
       "      <td>0.596009</td>\n",
       "    </tr>\n",
       "    <tr>\n",
       "      <th>train_accuracy</th>\n",
       "      <td>0.638870</td>\n",
       "    </tr>\n",
       "    <tr>\n",
       "      <th>test_balanced_accuracy</th>\n",
       "      <td>0.587681</td>\n",
       "    </tr>\n",
       "    <tr>\n",
       "      <th>train_balanced_accuracy</th>\n",
       "      <td>0.671217</td>\n",
       "    </tr>\n",
       "    <tr>\n",
       "      <th>test_average_precision</th>\n",
       "      <td>0.227802</td>\n",
       "    </tr>\n",
       "    <tr>\n",
       "      <th>train_average_precision</th>\n",
       "      <td>0.342340</td>\n",
       "    </tr>\n",
       "  </tbody>\n",
       "</table>\n",
       "</div>"
      ],
      "text/plain": [
       "                            Score\n",
       "test_roc_auc             0.629414\n",
       "train_roc_auc            0.753050\n",
       "test_recall              0.576047\n",
       "train_recall             0.716137\n",
       "test_precision           0.193353\n",
       "train_precision          0.241526\n",
       "test_accuracy            0.596009\n",
       "train_accuracy           0.638870\n",
       "test_balanced_accuracy   0.587681\n",
       "train_balanced_accuracy  0.671217\n",
       "test_average_precision   0.227802\n",
       "train_average_precision  0.342340"
      ]
     },
     "execution_count": 82,
     "metadata": {
      "tags": []
     },
     "output_type": "execute_result"
    }
   ],
   "source": [
    "from sklearn.model_selection import cross_val_predict, cross_val_score, cross_validate\n",
    "\n",
    "cv_strat = RepeatedStratifiedKFold(n_splits=kfold,n_repeats=20)\n",
    "scores = cross_validate(mdl_best,X.values,y.values,cv=cv_strat,verbose=3,n_jobs=-1,return_train_score=True,\n",
    "                        scoring={\"roc_auc\":\"roc_auc\",\n",
    "                                 \"recall\":\"recall\",\n",
    "                                 \"precision\":\"precision\",\n",
    "                                 \"accuracy\":\"accuracy\",\n",
    "                                 \"balanced_accuracy\":\"balanced_accuracy\",\n",
    "                                 \"average_precision\":\"average_precision\"}) \n",
    "\n",
    "pd.DataFrame(pd.DataFrame(scores).mean(),columns=[\"Score\"]).drop([\"fit_time\",\"score_time\"])"
   ]
  },
  {
   "cell_type": "markdown",
   "metadata": {
    "colab_type": "text",
    "id": "GSim_r19aXoa"
   },
   "source": [
    "Even though getting lower accuracy in total, now we are getting much better results for the minority class as recall and ROC AUC (receiver operating characteristics, area under curve) increased significantly.\n",
    "\n",
    "The score table above gives all metric results for both test and train sets. Train and test results are close which is an indication that our model did not overfit.\n",
    "\n",
    "The barchart below list the features ordered by their importance values for the XGB Classifier."
   ]
  },
  {
   "cell_type": "code",
   "execution_count": 83,
   "metadata": {
    "colab": {
     "base_uri": "https://localhost:8080/",
     "height": 1000
    },
    "colab_type": "code",
    "id": "0fhK0FjqaXoa",
    "outputId": "be9bbf1e-16cf-4850-c621-78a4e00b4893"
   },
   "outputs": [
    {
     "data": {
      "image/png": "[encoded data removed]",
      "text/plain": [
       "<Figure size 720x1440 with 1 Axes>"
      ]
     },
     "metadata": {
      "needs_background": "light",
      "tags": []
     },
     "output_type": "display_data"
    }
   ],
   "source": [
    "feat_imp = pd.DataFrame(list(zip(data.columns,mdl_best.feature_importances_)),columns=[\"Feature\",\"Importance\"]).sort_values(by=\"Importance\",ascending=False)\n",
    "fig_store = plt.figure(figsize=(10,20))\n",
    "sns.barplot(y=\"Feature\",x=\"Importance\",data = feat_imp,orient=\"h\")\n",
    "plt.show()"
   ]
  },
  {
   "cell_type": "markdown",
   "metadata": {
    "colab": {},
    "colab_type": "code",
    "id": "H8oWYpVz0nHT"
   },
   "source": [
    "As expected, \"Total Purchase\", \"Number of Received Campaigns\", \"Campaign no. 25\", and \"Numer of redeems\" features are the most important features for the classifier. As we recall from feature engineering section, these features were either a good separator or highly correlated to the target variable."
   ]
  },
  {
   "cell_type": "code",
   "execution_count": null,
   "metadata": {},
   "outputs": [],
   "source": []
  }
 ],
 "metadata": {
  "colab": {
   "name": "Churn_Prediction_with_XGBoost.ipynb",
   "provenance": []
  },
  "kernelspec": {
   "display_name": "v-env",
   "language": "python",
   "name": "v-env"
  },
  "language_info": {
   "codemirror_mode": {
    "name": "ipython",
    "version": 3
   },
   "file_extension": ".py",
   "mimetype": "text/x-python",
   "name": "python",
   "nbconvert_exporter": "python",
   "pygments_lexer": "ipython3",
   "version": "3.7.7"
  }
 },
 "nbformat": 4,
 "nbformat_minor": 1
}
