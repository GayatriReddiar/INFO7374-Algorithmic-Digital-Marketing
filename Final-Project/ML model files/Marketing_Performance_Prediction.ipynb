{
 "cells": [
  {
   "cell_type": "code",
   "execution_count": 51,
   "metadata": {},
   "outputs": [],
   "source": [
    "import pandas as pd\n",
    "import numpy as np\n",
    "import matplotlib.pyplot as plt\n",
    "import seaborn as sns\n",
    "from sklearn.model_selection import train_test_split\n",
    "from sklearn.preprocessing import StandardScaler\n",
    "from sklearn.model_selection import cross_val_score, GridSearchCV\n",
    "from sklearn.metrics import make_scorer\n",
    "from sklearn.linear_model import LinearRegression\n",
    "from sklearn.tree import DecisionTreeRegressor\n",
    "from sklearn.ensemble import RandomForestRegressor\n",
    "from sklearn.svm import SVR\n",
    "from xgboost import XGBRegressor\n",
    "import boto3\n",
    "import joblib\n",
    "from catboost import CatBoostRegressor\n",
    "from skopt import BayesSearchCV\n",
    "from skopt.space import Integer, Real\n",
    "import statsmodels.api as sm\n",
    "\n",
    "# Expand displayed data rows and columns\n",
    "pd.set_option('display.max_rows', 500)\n",
    "pd.set_option('display.max_columns', 500)"
   ]
  },
  {
   "cell_type": "code",
   "execution_count": 56,
   "metadata": {},
   "outputs": [],
   "source": [
    "# Load data\n",
    "output = 'campaigns'\n",
    "data = pd.read_csv(output + '.csv')"
   ]
  },
  {
   "cell_type": "code",
   "execution_count": 57,
   "metadata": {},
   "outputs": [
    {
     "name": "stdout",
     "output_type": "stream",
     "text": [
      "(241, 9)\n",
      "Index(['impressions', 'clicks', 'purchases', 'budget', 'days', 'facebook',\n",
      "       'instagram', 'google_search', 'twitter'],\n",
      "      dtype='object')\n"
     ]
    },
    {
     "data": {
      "text/html": [
       "<div>\n",
       "<style scoped>\n",
       "    .dataframe tbody tr th:only-of-type {\n",
       "        vertical-align: middle;\n",
       "    }\n",
       "\n",
       "    .dataframe tbody tr th {\n",
       "        vertical-align: top;\n",
       "    }\n",
       "\n",
       "    .dataframe thead th {\n",
       "        text-align: right;\n",
       "    }\n",
       "</style>\n",
       "<table border=\"1\" class=\"dataframe\">\n",
       "  <thead>\n",
       "    <tr style=\"text-align: right;\">\n",
       "      <th></th>\n",
       "      <th>impressions</th>\n",
       "      <th>clicks</th>\n",
       "      <th>purchases</th>\n",
       "      <th>budget</th>\n",
       "      <th>days</th>\n",
       "      <th>facebook</th>\n",
       "      <th>instagram</th>\n",
       "      <th>google_search</th>\n",
       "      <th>twitter</th>\n",
       "    </tr>\n",
       "  </thead>\n",
       "  <tbody>\n",
       "    <tr>\n",
       "      <th>0</th>\n",
       "      <td>2800465</td>\n",
       "      <td>47608</td>\n",
       "      <td>36882</td>\n",
       "      <td>20400</td>\n",
       "      <td>57</td>\n",
       "      <td>0</td>\n",
       "      <td>1</td>\n",
       "      <td>0</td>\n",
       "      <td>0</td>\n",
       "    </tr>\n",
       "    <tr>\n",
       "      <th>1</th>\n",
       "      <td>5168715</td>\n",
       "      <td>87868</td>\n",
       "      <td>68000</td>\n",
       "      <td>18300</td>\n",
       "      <td>154</td>\n",
       "      <td>1</td>\n",
       "      <td>1</td>\n",
       "      <td>1</td>\n",
       "      <td>1</td>\n",
       "    </tr>\n",
       "    <tr>\n",
       "      <th>2</th>\n",
       "      <td>2988965</td>\n",
       "      <td>50812</td>\n",
       "      <td>55765</td>\n",
       "      <td>10900</td>\n",
       "      <td>33</td>\n",
       "      <td>1</td>\n",
       "      <td>1</td>\n",
       "      <td>1</td>\n",
       "      <td>1</td>\n",
       "    </tr>\n",
       "    <tr>\n",
       "      <th>3</th>\n",
       "      <td>2230524</td>\n",
       "      <td>37919</td>\n",
       "      <td>28294</td>\n",
       "      <td>10700</td>\n",
       "      <td>110</td>\n",
       "      <td>1</td>\n",
       "      <td>1</td>\n",
       "      <td>1</td>\n",
       "      <td>1</td>\n",
       "    </tr>\n",
       "    <tr>\n",
       "      <th>4</th>\n",
       "      <td>2346054</td>\n",
       "      <td>39883</td>\n",
       "      <td>25823</td>\n",
       "      <td>10600</td>\n",
       "      <td>473</td>\n",
       "      <td>1</td>\n",
       "      <td>1</td>\n",
       "      <td>1</td>\n",
       "      <td>0</td>\n",
       "    </tr>\n",
       "    <tr>\n",
       "      <th>5</th>\n",
       "      <td>718317</td>\n",
       "      <td>12211</td>\n",
       "      <td>9177</td>\n",
       "      <td>8300</td>\n",
       "      <td>42</td>\n",
       "      <td>1</td>\n",
       "      <td>1</td>\n",
       "      <td>1</td>\n",
       "      <td>1</td>\n",
       "    </tr>\n",
       "    <tr>\n",
       "      <th>6</th>\n",
       "      <td>1713943</td>\n",
       "      <td>29137</td>\n",
       "      <td>17471</td>\n",
       "      <td>8100</td>\n",
       "      <td>333</td>\n",
       "      <td>1</td>\n",
       "      <td>1</td>\n",
       "      <td>1</td>\n",
       "      <td>1</td>\n",
       "    </tr>\n",
       "    <tr>\n",
       "      <th>7</th>\n",
       "      <td>1764728</td>\n",
       "      <td>30000</td>\n",
       "      <td>23000</td>\n",
       "      <td>6700</td>\n",
       "      <td>251</td>\n",
       "      <td>1</td>\n",
       "      <td>1</td>\n",
       "      <td>1</td>\n",
       "      <td>0</td>\n",
       "    </tr>\n",
       "    <tr>\n",
       "      <th>8</th>\n",
       "      <td>1610088</td>\n",
       "      <td>27371</td>\n",
       "      <td>17294</td>\n",
       "      <td>6500</td>\n",
       "      <td>64</td>\n",
       "      <td>1</td>\n",
       "      <td>1</td>\n",
       "      <td>1</td>\n",
       "      <td>0</td>\n",
       "    </tr>\n",
       "    <tr>\n",
       "      <th>9</th>\n",
       "      <td>1001823</td>\n",
       "      <td>17031</td>\n",
       "      <td>12353</td>\n",
       "      <td>6200</td>\n",
       "      <td>55</td>\n",
       "      <td>1</td>\n",
       "      <td>1</td>\n",
       "      <td>1</td>\n",
       "      <td>0</td>\n",
       "    </tr>\n",
       "  </tbody>\n",
       "</table>\n",
       "</div>"
      ],
      "text/plain": [
       "   impressions  clicks  purchases  budget  days  facebook  instagram  \\\n",
       "0      2800465   47608      36882   20400    57         0          1   \n",
       "1      5168715   87868      68000   18300   154         1          1   \n",
       "2      2988965   50812      55765   10900    33         1          1   \n",
       "3      2230524   37919      28294   10700   110         1          1   \n",
       "4      2346054   39883      25823   10600   473         1          1   \n",
       "5       718317   12211       9177    8300    42         1          1   \n",
       "6      1713943   29137      17471    8100   333         1          1   \n",
       "7      1764728   30000      23000    6700   251         1          1   \n",
       "8      1610088   27371      17294    6500    64         1          1   \n",
       "9      1001823   17031      12353    6200    55         1          1   \n",
       "\n",
       "   google_search  twitter  \n",
       "0              0        0  \n",
       "1              1        1  \n",
       "2              1        1  \n",
       "3              1        1  \n",
       "4              1        0  \n",
       "5              1        1  \n",
       "6              1        1  \n",
       "7              1        0  \n",
       "8              1        0  \n",
       "9              1        0  "
      ]
     },
     "execution_count": 57,
     "metadata": {},
     "output_type": "execute_result"
    }
   ],
   "source": [
    "# Show data shape (size), columns and first 10 rows\n",
    "print(data.shape)\n",
    "print(data.columns)\n",
    "data.head(10)"
   ]
  },
  {
   "cell_type": "code",
   "execution_count": 58,
   "metadata": {},
   "outputs": [
    {
     "data": {
      "text/html": [
       "<div>\n",
       "<style scoped>\n",
       "    .dataframe tbody tr th:only-of-type {\n",
       "        vertical-align: middle;\n",
       "    }\n",
       "\n",
       "    .dataframe tbody tr th {\n",
       "        vertical-align: top;\n",
       "    }\n",
       "\n",
       "    .dataframe thead th {\n",
       "        text-align: right;\n",
       "    }\n",
       "</style>\n",
       "<table border=\"1\" class=\"dataframe\">\n",
       "  <thead>\n",
       "    <tr style=\"text-align: right;\">\n",
       "      <th></th>\n",
       "      <th>impressions</th>\n",
       "      <th>clicks</th>\n",
       "      <th>purchases</th>\n",
       "      <th>budget</th>\n",
       "      <th>days</th>\n",
       "      <th>facebook</th>\n",
       "      <th>instagram</th>\n",
       "      <th>google_search</th>\n",
       "      <th>twitter</th>\n",
       "    </tr>\n",
       "  </thead>\n",
       "  <tbody>\n",
       "    <tr>\n",
       "      <th>count</th>\n",
       "      <td>2.410000e+02</td>\n",
       "      <td>241.000000</td>\n",
       "      <td>241.000000</td>\n",
       "      <td>241.000000</td>\n",
       "      <td>241.000000</td>\n",
       "      <td>241.000000</td>\n",
       "      <td>241.000000</td>\n",
       "      <td>241.000000</td>\n",
       "      <td>241.000000</td>\n",
       "    </tr>\n",
       "    <tr>\n",
       "      <th>mean</th>\n",
       "      <td>3.488293e+05</td>\n",
       "      <td>5930.103734</td>\n",
       "      <td>5273.858921</td>\n",
       "      <td>1353.112033</td>\n",
       "      <td>56.302905</td>\n",
       "      <td>0.975104</td>\n",
       "      <td>0.692946</td>\n",
       "      <td>0.651452</td>\n",
       "      <td>0.049793</td>\n",
       "    </tr>\n",
       "    <tr>\n",
       "      <th>std</th>\n",
       "      <td>9.075496e+05</td>\n",
       "      <td>15428.338314</td>\n",
       "      <td>16148.229413</td>\n",
       "      <td>2358.601427</td>\n",
       "      <td>59.147587</td>\n",
       "      <td>0.156133</td>\n",
       "      <td>0.462232</td>\n",
       "      <td>0.477502</td>\n",
       "      <td>0.217969</td>\n",
       "    </tr>\n",
       "    <tr>\n",
       "      <th>min</th>\n",
       "      <td>9.586000e+03</td>\n",
       "      <td>163.000000</td>\n",
       "      <td>117.000000</td>\n",
       "      <td>100.000000</td>\n",
       "      <td>6.000000</td>\n",
       "      <td>0.000000</td>\n",
       "      <td>0.000000</td>\n",
       "      <td>0.000000</td>\n",
       "      <td>0.000000</td>\n",
       "    </tr>\n",
       "    <tr>\n",
       "      <th>25%</th>\n",
       "      <td>6.667600e+04</td>\n",
       "      <td>1133.000000</td>\n",
       "      <td>999.000000</td>\n",
       "      <td>400.000000</td>\n",
       "      <td>21.000000</td>\n",
       "      <td>1.000000</td>\n",
       "      <td>0.000000</td>\n",
       "      <td>0.000000</td>\n",
       "      <td>0.000000</td>\n",
       "    </tr>\n",
       "    <tr>\n",
       "      <th>50%</th>\n",
       "      <td>1.251160e+05</td>\n",
       "      <td>2127.000000</td>\n",
       "      <td>1883.000000</td>\n",
       "      <td>600.000000</td>\n",
       "      <td>37.000000</td>\n",
       "      <td>1.000000</td>\n",
       "      <td>1.000000</td>\n",
       "      <td>1.000000</td>\n",
       "      <td>0.000000</td>\n",
       "    </tr>\n",
       "    <tr>\n",
       "      <th>75%</th>\n",
       "      <td>3.012230e+05</td>\n",
       "      <td>5121.000000</td>\n",
       "      <td>3882.000000</td>\n",
       "      <td>1300.000000</td>\n",
       "      <td>65.000000</td>\n",
       "      <td>1.000000</td>\n",
       "      <td>1.000000</td>\n",
       "      <td>1.000000</td>\n",
       "      <td>0.000000</td>\n",
       "    </tr>\n",
       "    <tr>\n",
       "      <th>max</th>\n",
       "      <td>1.153939e+07</td>\n",
       "      <td>196170.000000</td>\n",
       "      <td>223882.000000</td>\n",
       "      <td>20400.000000</td>\n",
       "      <td>473.000000</td>\n",
       "      <td>1.000000</td>\n",
       "      <td>1.000000</td>\n",
       "      <td>1.000000</td>\n",
       "      <td>1.000000</td>\n",
       "    </tr>\n",
       "  </tbody>\n",
       "</table>\n",
       "</div>"
      ],
      "text/plain": [
       "        impressions         clicks      purchases        budget        days  \\\n",
       "count  2.410000e+02     241.000000     241.000000    241.000000  241.000000   \n",
       "mean   3.488293e+05    5930.103734    5273.858921   1353.112033   56.302905   \n",
       "std    9.075496e+05   15428.338314   16148.229413   2358.601427   59.147587   \n",
       "min    9.586000e+03     163.000000     117.000000    100.000000    6.000000   \n",
       "25%    6.667600e+04    1133.000000     999.000000    400.000000   21.000000   \n",
       "50%    1.251160e+05    2127.000000    1883.000000    600.000000   37.000000   \n",
       "75%    3.012230e+05    5121.000000    3882.000000   1300.000000   65.000000   \n",
       "max    1.153939e+07  196170.000000  223882.000000  20400.000000  473.000000   \n",
       "\n",
       "         facebook   instagram  google_search     twitter  \n",
       "count  241.000000  241.000000     241.000000  241.000000  \n",
       "mean     0.975104    0.692946       0.651452    0.049793  \n",
       "std      0.156133    0.462232       0.477502    0.217969  \n",
       "min      0.000000    0.000000       0.000000    0.000000  \n",
       "25%      1.000000    0.000000       0.000000    0.000000  \n",
       "50%      1.000000    1.000000       1.000000    0.000000  \n",
       "75%      1.000000    1.000000       1.000000    0.000000  \n",
       "max      1.000000    1.000000       1.000000    1.000000  "
      ]
     },
     "execution_count": 58,
     "metadata": {},
     "output_type": "execute_result"
    }
   ],
   "source": [
    "# View metrics summary\n",
    "data.describe()\n"
   ]
  },
  {
   "cell_type": "code",
   "execution_count": 59,
   "metadata": {},
   "outputs": [
    {
     "data": {
      "image/png": "[encoded data removed]",
      "text/plain": [
       "<Figure size 864x648 with 9 Axes>"
      ]
     },
     "metadata": {
      "needs_background": "light"
     },
     "output_type": "display_data"
    }
   ],
   "source": [
    "# Visualize distributions of numerical features with histograms\n",
    "quan = list(data.loc[:, data.dtypes != 'object'].columns.values)\n",
    "grid = sns.FacetGrid(pd.melt(data, value_vars=quan),\n",
    "                     col='variable', col_wrap=4, height=3, aspect=1,\n",
    "                     sharex=False, sharey=False)\n",
    "grid.map(plt.hist, 'value', color=\"steelblue\")\n",
    "plt.show()"
   ]
  },
  {
   "cell_type": "code",
   "execution_count": 60,
   "metadata": {},
   "outputs": [
    {
     "data": {
      "image/png": "[encoded data removed]",
      "text/plain": [
       "<Figure size 432x288 with 2 Axes>"
      ]
     },
     "metadata": {
      "needs_background": "light"
     },
     "output_type": "display_data"
    }
   ],
   "source": [
    "# Visualize feature correlations\n",
    "sns.heatmap(data._get_numeric_data().astype(float).corr(),\n",
    "            square=True, cmap='RdBu_r', linewidths=.5,\n",
    "            annot=True, fmt='.2f').figure.tight_layout()\n",
    "plt.show()"
   ]
  },
  {
   "cell_type": "code",
   "execution_count": 61,
   "metadata": {},
   "outputs": [
    {
     "data": {
      "text/plain": [
       "impressions      1.000000\n",
       "clicks           1.000000\n",
       "purchases        0.983326\n",
       "budget           0.556317\n",
       "days             0.449491\n",
       "twitter          0.269616\n",
       "google_search    0.164593\n",
       "instagram        0.073916\n",
       "facebook        -0.382057\n",
       "Name: impressions, dtype: float64"
      ]
     },
     "execution_count": 61,
     "metadata": {},
     "output_type": "execute_result"
    }
   ],
   "source": [
    "# Investigate correlations between dependent and independent variables\n",
    "data.corr(method='pearson').iloc[0].sort_values(ascending=False)"
   ]
  },
  {
   "cell_type": "code",
   "execution_count": 62,
   "metadata": {},
   "outputs": [
    {
     "name": "stdout",
     "output_type": "stream",
     "text": [
      "0\n"
     ]
    }
   ],
   "source": [
    "# Investigate missing values\n",
    "# Columns with NaN\n",
    "data.isnull().sum()\n",
    "# Rows with NaN\n",
    "rows_with_nan = 0\n",
    "for i in range(len(data)):\n",
    "    rows_with_nan += data.iloc[i].isnull().sum()\n",
    "print(rows_with_nan)"
   ]
  },
  {
   "cell_type": "code",
   "execution_count": 63,
   "metadata": {},
   "outputs": [],
   "source": [
    "def mean_relative_accuracy(y_pred, y_true):\n",
    "    \"\"\"\n",
    "    Helper function to calculate mean relative closeness of two vectors\n",
    "    = 1 - mean percentage error\n",
    "    \"\"\"\n",
    "    return 1 - np.mean(np.abs((y_pred - y_true) / y_true))\n",
    "\n",
    "\n",
    "def powerlist(start, base, times):\n",
    "    \"\"\"\n",
    "    Helper function to create lists with exponential outputs,\n",
    "    e.g. for search grids\n",
    "    \"\"\"\n",
    "    return [start * base ** i for i in range(0, times, 1)]"
   ]
  },
  {
   "cell_type": "code",
   "execution_count": 64,
   "metadata": {},
   "outputs": [],
   "source": [
    "import pandas as pd\n",
    "from sklearn.model_selection import train_test_split\n",
    "from sklearn.preprocessing import StandardScaler\n",
    "\n",
    "def data_pipeline(data, output):\n",
    "    \"\"\"\n",
    "    Preprocessing pipeline part 1: Transform full data frame\n",
    "    Arguments: Pandas dataframe, output column (dependent variable)\n",
    "    Returns: Modified dataframe\n",
    "    \"\"\"\n",
    "    data = cost_per_metric(data, output) if 'cost_per' in output \\\n",
    "                                         else data[data[output] > 0]\n",
    "    data = drop_columns(data, output, threshold=.5)\n",
    "    data = data.dropna(axis='index')\n",
    "    data = create_other_buckets(data, threshold=.1)\n",
    "    data_cat = data\n",
    "    data = one_hot_encode(data)\n",
    "    return data, data_cat\n",
    "\n",
    "def split_pipeline(data, output, encoded=True):\n",
    "    \"\"\"\n",
    "    Preprocessing pipeline part 2: Split data into variables\n",
    "    Arguments: Pandas dataframe, output column (dependent variable)\n",
    "    Returns: List of scaled and unscaled dependent and independent variables\n",
    "    \"\"\"\n",
    "    y, X = data.iloc[:, 0], data.iloc[:, 1:]\n",
    "    X_train, X_test, y_train, y_test = train_test_split(\n",
    "        data.drop([output], axis=1), data[output], test_size=.2, random_state=1)\n",
    "    if encoded:\n",
    "        X_scaled, y_scaled, X_train_scaled, y_train_scaled, X_test_scaled, \\\n",
    "            y_scaler = scale(X, y, X_train, y_train, X_test)\n",
    "        return [X, y, X_train, y_train, X_test, y_test, X_scaled, y_scaled,\n",
    "                X_train_scaled, y_train_scaled, X_test_scaled, y_scaler]\n",
    "    return [X, y, X_train, y_train, X_test, y_test]\n",
    "\n",
    "def cost_per_metric(data, output):\n",
    "    \"\"\"Create 'cost_per_...' column and remove data where output is 0 or NaN\"\"\"\n",
    "    metric = output.replace('cost_per_', '') + 's'\n",
    "    data = data[data[metric] > 0]\n",
    "    data.insert(0, output, [row['cost'] / row[metric]\n",
    "                            for index, row in data.iterrows()])\n",
    "    return data\n",
    "\n",
    "def drop_columns(data, output, threshold=0.5):\n",
    "    \"\"\"Drop columns with more than threshold missing data\"\"\"\n",
    "    rows = data[output].count()\n",
    "    for column in list(data.columns):\n",
    "        if data[column].count() < rows * threshold:\n",
    "            data = data.drop([column], axis=1)\n",
    "    return data\n",
    "\n",
    "def create_other_buckets(data, threshold=0.1):\n",
    "    \"\"\"Put rare categorical values into other bucket\"\"\"\n",
    "    categoricals = list(data.select_dtypes(include='object').columns)\n",
    "    for column in categoricals:\n",
    "        results = data[column].count()\n",
    "        groups = data.groupby([column])[column].count()\n",
    "        for bucket in groups.index:\n",
    "            if groups.loc[bucket] < results * threshold:\n",
    "                data.loc[data[column] == bucket, column] = 'other'\n",
    "    return data\n",
    "\n",
    "def one_hot_encode(data):\n",
    "    \"\"\"One-hot encode categorical data\"\"\"\n",
    "    categoricals = list(data.select_dtypes(include='object').columns)\n",
    "    for column in categoricals:\n",
    "        if 'other' in data[column].unique():\n",
    "            data = pd.get_dummies(data, columns=[column], prefix=[column],\n",
    "                                  drop_first=False)\n",
    "            data = data.drop([column + '_other'], axis=1)\n",
    "        else:\n",
    "            data = pd.get_dummies(data, columns=[column], prefix=[column],\n",
    "                                  drop_first=True)\n",
    "    return data\n",
    "\n",
    "def scale(X, y, X_train, y_train, X_test):\n",
    "    \"\"\"Scale dependent and independent variables\"\"\"\n",
    "    X_scaler, y_scaler = StandardScaler(), StandardScaler()\n",
    "\n",
    "    X_scaled = X_scaler.fit_transform(X.values.astype(float))\n",
    "    y_scaled = y_scaler.fit_transform(\n",
    "        y.values.astype(float).reshape(-1, 1)).flatten()\n",
    "\n",
    "    X_train_scaled = pd.DataFrame(data=X_scaler.transform(\n",
    "        X_train.values.astype(float)), columns=X.columns)\n",
    "    y_train_scaled = y_scaler.transform(\n",
    "        y_train.values.astype(float).reshape(-1, 1)).flatten()\n",
    "\n",
    "    X_test_scaled = pd.DataFrame(data=X_scaler.transform(\n",
    "        X_test.values.astype(float)), columns=X.columns)\n",
    "\n",
    "    return [X_scaled, y_scaled, X_train_scaled, y_train_scaled,\n",
    "            X_test_scaled, y_scaler]"
   ]
  },
  {
   "cell_type": "code",
   "execution_count": 65,
   "metadata": {},
   "outputs": [],
   "source": [
    "def train(output):    \n",
    "    #ouput = 'impressions'\n",
    "\n",
    "    data = pd.read_csv('campaigns.csv')\n",
    "    print('Data loaded.')\n",
    "    \n",
    "    keep = output\n",
    "    drop_candidates = ['impressions', 'clicks', 'purchases']\n",
    "    drops = [drop for drop in drop_candidates if drop != keep and drop in data.columns]\n",
    "    data = data.drop(drops, axis=1)\n",
    "\n",
    "    data, data_cat = data_pipeline(data, output)\n",
    "    [X, y, X_train, y_train, X_test, y_test, X_scaled, y_scaled,\n",
    "    X_train_scaled, y_train_scaled, X_test_scaled, y_scaler] \\\n",
    "    = split_pipeline(data, output, encoded=True)\n",
    "    [X_cat, y_cat, X_train_cat, y_train_cat, X_test_cat, y_test_cat] = \\\n",
    "    split_pipeline(data_cat, output, encoded=False)\n",
    "    print('Data preprocessed.')\n",
    "\n",
    "    scorer = make_scorer(mean_relative_accuracy)\n",
    "    \n",
    "    forest_parameters = [{'n_estimators': powerlist(10, 2, 4),\n",
    "                           'min_samples_leaf': list(range(2, 10, 1)),\n",
    "                           'criterion': ['mae', 'mse'],\n",
    "                           'random_state': [1], 'n_jobs': [-1]}]\n",
    "    forest_search = GridSearchCV(estimator=RandomForestRegressor(),\n",
    "                                  param_grid=forest_parameters,\n",
    "                                  scoring=scorer, cv=5, n_jobs=-1,\n",
    "                                  iid=False)\n",
    "    forest_search_result = forest_search.fit(X_train, y_train)\n",
    "    best_forest_parameters = dict(forest_search_result.best_params_)\n",
    "    forest_score = forest_search_result.best_score_\n",
    "    print('Best forest params: ' + str(best_forest_parameters))\n",
    "    print('Forest score: ' + str(forest_score))\n",
    "    regression = RandomForestRegressor(\n",
    "                n_estimators=best_forest_parameters['n_estimators'],\n",
    "                min_samples_leaf=best_forest_parameters['min_samples_leaf'],\n",
    "                criterion=best_forest_parameters['criterion'],\n",
    "                random_state=1, n_jobs=-1)\n",
    "    regression.fit(X, y)\n",
    "    joblib.dump(regression, output + '_model.pkl')\n",
    "    joblib.dump(X, output + '_train.pkl')\n",
    "    joblib.dump(y, output + '_actuals.pkl')\n",
    "    print('Regressor fit.')"
   ]
  },
  {
   "cell_type": "code",
   "execution_count": 66,
   "metadata": {},
   "outputs": [
    {
     "name": "stdout",
     "output_type": "stream",
     "text": [
      "Data loaded.\n",
      "Data preprocessed.\n"
     ]
    },
    {
     "name": "stderr",
     "output_type": "stream",
     "text": [
      "C:\\Users\\reddy\\anaconda3\\envs\\v-env\\lib\\site-packages\\sklearn\\model_selection\\_search.py:849: FutureWarning: The parameter 'iid' is deprecated in 0.22 and will be removed in 0.24.\n",
      "  \"removed in 0.24.\", FutureWarning\n"
     ]
    },
    {
     "name": "stdout",
     "output_type": "stream",
     "text": [
      "Best forest params: {'criterion': 'mse', 'min_samples_leaf': 3, 'n_estimators': 40, 'n_jobs': -1, 'random_state': 1}\n",
      "Forest score: 0.7096962679164467\n",
      "Regressor fit.\n"
     ]
    }
   ],
   "source": [
    "train('impressions')"
   ]
  },
  {
   "cell_type": "code",
   "execution_count": 67,
   "metadata": {},
   "outputs": [
    {
     "name": "stdout",
     "output_type": "stream",
     "text": [
      "Data loaded.\n",
      "Data preprocessed.\n"
     ]
    },
    {
     "name": "stderr",
     "output_type": "stream",
     "text": [
      "C:\\Users\\reddy\\anaconda3\\envs\\v-env\\lib\\site-packages\\sklearn\\model_selection\\_search.py:849: FutureWarning: The parameter 'iid' is deprecated in 0.22 and will be removed in 0.24.\n",
      "  \"removed in 0.24.\", FutureWarning\n"
     ]
    },
    {
     "name": "stdout",
     "output_type": "stream",
     "text": [
      "Best forest params: {'criterion': 'mse', 'min_samples_leaf': 6, 'n_estimators': 40, 'n_jobs': -1, 'random_state': 1}\n",
      "Forest score: 0.6767508694481563\n",
      "Regressor fit.\n"
     ]
    }
   ],
   "source": [
    "train('purchases')"
   ]
  },
  {
   "cell_type": "code",
   "execution_count": 68,
   "metadata": {},
   "outputs": [
    {
     "data": {
      "text/html": [
       "<div>\n",
       "<style scoped>\n",
       "    .dataframe tbody tr th:only-of-type {\n",
       "        vertical-align: middle;\n",
       "    }\n",
       "\n",
       "    .dataframe tbody tr th {\n",
       "        vertical-align: top;\n",
       "    }\n",
       "\n",
       "    .dataframe thead th {\n",
       "        text-align: right;\n",
       "    }\n",
       "</style>\n",
       "<table border=\"1\" class=\"dataframe\">\n",
       "  <thead>\n",
       "    <tr style=\"text-align: right;\">\n",
       "      <th></th>\n",
       "      <th>budget</th>\n",
       "      <th>days</th>\n",
       "      <th>fb</th>\n",
       "      <th>insta</th>\n",
       "      <th>search</th>\n",
       "      <th>twitter</th>\n",
       "    </tr>\n",
       "  </thead>\n",
       "  <tbody>\n",
       "    <tr>\n",
       "      <th>0</th>\n",
       "      <td>15000</td>\n",
       "      <td>30</td>\n",
       "      <td>1</td>\n",
       "      <td>1</td>\n",
       "      <td>1</td>\n",
       "      <td>1</td>\n",
       "    </tr>\n",
       "  </tbody>\n",
       "</table>\n",
       "</div>"
      ],
      "text/plain": [
       "   budget  days  fb  insta  search  twitter\n",
       "0   15000    30   1      1       1        1"
      ]
     },
     "execution_count": 68,
     "metadata": {},
     "output_type": "execute_result"
    }
   ],
   "source": [
    "budget=15000\n",
    "days=30\n",
    "fb=1\n",
    "insta=1\n",
    "search=1 \n",
    "twitter=1\n",
    "data = {'budget': [budget], 'days': [days], 'fb': [fb], 'insta':[insta], 'search':[search], 'twitter':[twitter]}\n",
    "df = pd.DataFrame(data, columns = ['budget','days','fb','insta','search','twitter'])\n",
    "df"
   ]
  },
  {
   "cell_type": "code",
   "execution_count": 69,
   "metadata": {},
   "outputs": [],
   "source": [
    "def predict(data, output):\n",
    "    if output == 'impressions':\n",
    "        regression = joblib.load('impressions_model.pkl')\n",
    "        X = data\n",
    "        y = joblib.load('impressions_actuals.pkl')\n",
    "        predictions = regression.predict(X).astype(int)\n",
    "        return predictions\n",
    "    else:\n",
    "        regression = joblib.load('purchases_model.pkl')\n",
    "        X = data\n",
    "        y = joblib.load('purchases_actuals.pkl')\n",
    "        predictions = regression.predict(X).astype(int)\n",
    "        return predictions"
   ]
  },
  {
   "cell_type": "code",
   "execution_count": 70,
   "metadata": {},
   "outputs": [],
   "source": [
    "p=predict(df,'impressions')"
   ]
  },
  {
   "cell_type": "code",
   "execution_count": 71,
   "metadata": {},
   "outputs": [],
   "source": [
    "p1=predict(df,'purchases')"
   ]
  },
  {
   "cell_type": "code",
   "execution_count": 72,
   "metadata": {},
   "outputs": [
    {
     "data": {
      "text/plain": [
       "array([2721871])"
      ]
     },
     "execution_count": 72,
     "metadata": {},
     "output_type": "execute_result"
    }
   ],
   "source": [
    "impressions"
   ]
  },
  {
   "cell_type": "code",
   "execution_count": 73,
   "metadata": {},
   "outputs": [
    {
     "data": {
      "text/plain": [
       "array([26827])"
      ]
     },
     "execution_count": 73,
     "metadata": {},
     "output_type": "execute_result"
    }
   ],
   "source": [
    "purchases"
   ]
  }
 ],
 "metadata": {
  "kernelspec": {
   "display_name": "v-env",
   "language": "python",
   "name": "v-env"
  },
  "language_info": {
   "codemirror_mode": {
    "name": "ipython",
    "version": 3
   },
   "file_extension": ".py",
   "mimetype": "text/x-python",
   "name": "python",
   "nbconvert_exporter": "python",
   "pygments_lexer": "ipython3",
   "version": "3.7.7"
  }
 },
 "nbformat": 4,
 "nbformat_minor": 4
}
